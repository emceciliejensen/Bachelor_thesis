{
 "cells": [
  {
   "cell_type": "code",
   "execution_count": 18,
   "id": "313aba41",
   "metadata": {},
   "outputs": [
    {
     "name": "stdout",
     "output_type": "stream",
     "text": [
      "Found 474,730 self-citation(s).\n",
      "\n",
      "Self-citation count by SourceGender:\n",
      "SourceGender\n",
      "male      257375\n",
      "female    171382\n",
      "NaN        45973\n",
      "Name: count, dtype: int64 \n",
      "\n"
     ]
    }
   ],
   "source": [
    "import pandas as pd\n",
    "\n",
    "df_sociology = pd.read_csv(\"Sociology_self_citations.csv\")\n",
    "\n",
    "total = len(df_sociology)\n",
    "print(f\"Found {total:,} self-citation(s).\\n\")\n",
    "\n",
    "print(\"Self-citation count by SourceGender:\")\n",
    "print(df_sociology['SourceGender'].value_counts(dropna=False), \"\\n\")"
   ]
  },
  {
   "cell_type": "code",
   "execution_count": 17,
   "id": "92168f4d",
   "metadata": {},
   "outputs": [
    {
     "name": "stdout",
     "output_type": "stream",
     "text": [
      "Found 3,564,662 self-citation(s).\n",
      "\n",
      "Self-citation count by SourceGender:\n",
      "SourceGender\n",
      "male      2381768\n",
      "NaN        935369\n",
      "female     247525\n",
      "Name: count, dtype: int64 \n",
      "\n"
     ]
    }
   ],
   "source": [
    "import pandas as pd\n",
    "\n",
    "df_engineering = pd.read_csv(\"Engineering_self_citations.csv\")\n",
    "\n",
    "total = len(df_engineering)\n",
    "print(f\"Found {total:,} self-citation(s).\\n\")\n",
    "\n",
    "print(\"Self-citation count by SourceGender:\")\n",
    "print(df_engineering['SourceGender'].value_counts(dropna=False), \"\\n\")"
   ]
  },
  {
   "cell_type": "code",
   "execution_count": 19,
   "id": "762d284c",
   "metadata": {},
   "outputs": [
    {
     "name": "stdout",
     "output_type": "stream",
     "text": [
      "Found 7,702,173 self-citation(s).\n",
      "\n",
      "Self-citation count by SourceGender:\n",
      "SourceGender\n",
      "male      4695378\n",
      "female    2328334\n",
      "NaN        678461\n",
      "Name: count, dtype: int64 \n",
      "\n"
     ]
    }
   ],
   "source": [
    "import pandas as pd\n",
    "\n",
    "df_psychology = pd.read_csv(\"Psychology_self_citations.csv\")\n",
    "\n",
    "total = len(df_psychology)\n",
    "print(f\"Found {total:,} self-citation(s).\\n\")\n",
    "\n",
    "print(\"Self-citation count by SourceGender:\")\n",
    "print(df_psychology['SourceGender'].value_counts(dropna=False), \"\\n\")"
   ]
  },
  {
   "cell_type": "code",
   "execution_count": 20,
   "id": "b08c0079",
   "metadata": {},
   "outputs": [
    {
     "name": "stdout",
     "output_type": "stream",
     "text": [
      "Found 187,771 self-citation(s).\n",
      "\n",
      "Self-citation count by SourceGender:\n",
      "SourceGender\n",
      "NaN       91511\n",
      "male      83074\n",
      "female    13186\n",
      "Name: count, dtype: int64 \n",
      "\n"
     ]
    }
   ],
   "source": [
    "import pandas as pd\n",
    "\n",
    "df_physics = pd.read_csv(\"Physics_random_sample_self_citations.csv\")\n",
    "\n",
    "total = len(df_physics)\n",
    "print(f\"Found {total:,} self-citation(s).\\n\")\n",
    "\n",
    "print(\"Self-citation count by SourceGender:\")\n",
    "print(df_physics['SourceGender'].value_counts(dropna=False), \"\\n\")"
   ]
  },
  {
   "cell_type": "code",
   "execution_count": 21,
   "id": "9c59fda9",
   "metadata": {},
   "outputs": [
    {
     "data": {
      "text/html": [
       "<div>\n",
       "<style scoped>\n",
       "    .dataframe tbody tr th:only-of-type {\n",
       "        vertical-align: middle;\n",
       "    }\n",
       "\n",
       "    .dataframe tbody tr th {\n",
       "        vertical-align: top;\n",
       "    }\n",
       "\n",
       "    .dataframe thead th {\n",
       "        text-align: right;\n",
       "    }\n",
       "</style>\n",
       "<table border=\"1\" class=\"dataframe\">\n",
       "  <thead>\n",
       "    <tr style=\"text-align: right;\">\n",
       "      <th></th>\n",
       "      <th>TotalCitations</th>\n",
       "      <th>SelfCitations</th>\n",
       "      <th>PercentSelfCitations</th>\n",
       "    </tr>\n",
       "  </thead>\n",
       "  <tbody>\n",
       "    <tr>\n",
       "      <th>0</th>\n",
       "      <td>25755715</td>\n",
       "      <td>474730</td>\n",
       "      <td>1.84</td>\n",
       "    </tr>\n",
       "  </tbody>\n",
       "</table>\n",
       "</div>"
      ],
      "text/plain": [
       "   TotalCitations  SelfCitations  PercentSelfCitations\n",
       "0        25755715         474730                  1.84"
      ]
     },
     "execution_count": 21,
     "metadata": {},
     "output_type": "execute_result"
    }
   ],
   "source": [
    "df_soc_stat = pd.read_csv(\"Sociology_self_summary.csv\")\n",
    "df_soc_stat"
   ]
  },
  {
   "cell_type": "code",
   "execution_count": 25,
   "id": "eee3ecf1",
   "metadata": {},
   "outputs": [
    {
     "name": "stdout",
     "output_type": "stream",
     "text": [
      "Sociology Self-citation Statistics\n",
      "Total citations:                25,755,715\n",
      "Total self-citations:           474,730 (1.84%)\n",
      "\n",
      "Male self-citations:            257,375\n",
      "Female self-citations:          171,382\n",
      "\n",
      "Male self-citations as % of total:    1.00%\n",
      "Female self-citations as % of total:  0.67%\n",
      "\n",
      "Male self-citations as % of self:     54.22%\n",
      "Female self-citations as % of self:   36.10%\n"
     ]
    }
   ],
   "source": [
    "import pandas as pd\n",
    "\n",
    "# Paths to your files\n",
    "full_path = \"Sociology_Author_Citations_Genderized.csv\"\n",
    "self_path = \"Sociology_self_citations.csv\"\n",
    "\n",
    "# Load datasets\n",
    "df_all_sociology = pd.read_csv(full_path)\n",
    "df_self_sociology = pd.read_csv(self_path)\n",
    "\n",
    "# Total counts\n",
    "total_citations = len(df_all_sociology)\n",
    "total_self = len(df_self_sociology)\n",
    "\n",
    "# Gender-specific self-citation counts\n",
    "male_self = len(df_self_sociology[df_self_sociology['SourceGender'] == 'male'])\n",
    "female_self = len(df_self_sociology[df_self_sociology['SourceGender'] == 'female'])\n",
    "\n",
    "# Percent of total citations\n",
    "percent_self_total = (total_self / total_citations) * 100 if total_citations else 0\n",
    "percent_male_total = (male_self / total_citations) * 100 if total_citations else 0\n",
    "percent_female_total = (female_self / total_citations) * 100 if total_citations else 0\n",
    "\n",
    "# Percent of self-citations\n",
    "percent_male_self = (male_self / total_self) * 100 if total_self else 0\n",
    "percent_female_self = (female_self / total_self) * 100 if total_self else 0\n",
    "\n",
    "print(\"Sociology Self-citation Statistics\")\n",
    "print(f\"Total citations:                {total_citations:,}\")\n",
    "print(f\"Total self-citations:           {total_self:,} ({percent_self_total:.2f}%)\\n\")\n",
    "\n",
    "print(f\"Male self-citations:            {male_self:,}\")\n",
    "print(f\"Female self-citations:          {female_self:,}\\n\")\n",
    "\n",
    "print(f\"Male self-citations as % of total citations:    {percent_male_total:.2f}%\")\n",
    "print(f\"Female self-citations as % of total citations:  {percent_female_total:.2f}%\\n\")\n",
    "\n",
    "print(f\"Male self-citations as % of total self-citations:     {percent_male_self:.2f}%\")\n",
    "print(f\"Female self-citations as % of total self-citations:   {percent_female_self:.2f}%\")\n"
   ]
  },
  {
   "cell_type": "code",
   "execution_count": 27,
   "id": "309ce233",
   "metadata": {},
   "outputs": [
    {
     "name": "stdout",
     "output_type": "stream",
     "text": [
      "Engineering Self-citation Statistics\n",
      "Total citations:                271,592,635\n",
      "Total self-citations:           3,564,662 (1.31%)\n",
      "\n",
      "Male self-citations:            2,381,768\n",
      "Female self-citations:          247,525\n",
      "\n",
      "Male self-citations as % of total:    0.88%\n",
      "Female self-citations as % of total:  0.09%\n",
      "\n",
      "Male self-citations as % of self:     66.82%\n",
      "Female self-citations as % of self:   6.94%\n"
     ]
    }
   ],
   "source": [
    "import pandas as pd\n",
    "\n",
    "# Paths to your files\n",
    "full_path = \"Engineering_Author_Citations_Genderized.csv\"\n",
    "self_path = \"Engineering_self_citations.csv\"\n",
    "\n",
    "# Load datasets\n",
    "df_all_engineering = pd.read_csv(full_path)\n",
    "df_self_engineering = pd.read_csv(self_path)\n",
    "\n",
    "# Total counts\n",
    "total_citations = len(df_all_engineering)\n",
    "total_self = len(df_self_engineering)\n",
    "\n",
    "# Gender-specific self-citation counts\n",
    "male_self = len(df_self_engineering[df_self_engineering['SourceGender'] == 'male'])\n",
    "female_self = len(df_self_engineering[df_self_engineering['SourceGender'] == 'female'])\n",
    "\n",
    "# Percent of total citations\n",
    "percent_self_total = (total_self / total_citations) * 100 if total_citations else 0\n",
    "percent_male_total = (male_self / total_citations) * 100 if total_citations else 0\n",
    "percent_female_total = (female_self / total_citations) * 100 if total_citations else 0\n",
    "\n",
    "# Percent of self-citations\n",
    "percent_male_self = (male_self / total_self) * 100 if total_self else 0\n",
    "percent_female_self = (female_self / total_self) * 100 if total_self else 0\n",
    "\n",
    "print(\"Engineering Self-citation Statistics\")\n",
    "print(f\"Total citations:                {total_citations:,}\")\n",
    "print(f\"Total self-citations:           {total_self:,} ({percent_self_total:.2f}%)\\n\")\n",
    "\n",
    "print(f\"Male self-citations:            {male_self:,}\")\n",
    "print(f\"Female self-citations:          {female_self:,}\\n\")\n",
    "\n",
    "print(f\"Male self-citations as % of total:    {percent_male_total:.2f}%\")\n",
    "print(f\"Female self-citations as % of total:  {percent_female_total:.2f}%\\n\")\n",
    "\n",
    "print(f\"Male self-citations as % of self:     {percent_male_self:.2f}%\")\n",
    "print(f\"Female self-citations as % of self:   {percent_female_self:.2f}%\")\n"
   ]
  },
  {
   "cell_type": "code",
   "execution_count": 28,
   "id": "47d5bc26",
   "metadata": {},
   "outputs": [
    {
     "name": "stdout",
     "output_type": "stream",
     "text": [
      "Psychology Self-citation Statistics\n",
      "Total citations:                710,287,013\n",
      "Total self-citations:           7,702,173 (1.08%)\n",
      "\n",
      "Male self-citations:            4,695,378\n",
      "Female self-citations:          2,328,334\n",
      "\n",
      "Male self-citations as % of total:    0.66%\n",
      "Female self-citations as % of total:  0.33%\n",
      "\n",
      "Male self-citations as % of self:     60.96%\n",
      "Female self-citations as % of self:   30.23%\n"
     ]
    }
   ],
   "source": [
    "import pandas as pd\n",
    "\n",
    "# Paths to your files\n",
    "full_path = \"Psychology_Author_Citations_Genderized.csv\"\n",
    "self_path = \"Psychology_self_citations.csv\"\n",
    "\n",
    "# Load datasets\n",
    "df_all_psychology = pd.read_csv(full_path)\n",
    "df_self_psychology = pd.read_csv(self_path)\n",
    "\n",
    "# Total counts\n",
    "total_citations = len(df_all_psychology)\n",
    "total_self = len(df_self_psychology)\n",
    "\n",
    "# Gender-specific self-citation counts\n",
    "male_self = len(df_self_psychology[df_self_psychology['SourceGender'] == 'male'])\n",
    "female_self = len(df_self_psychology[df_self_psychology['SourceGender'] == 'female'])\n",
    "\n",
    "# Percent of total citations\n",
    "percent_self_total = (total_self / total_citations) * 100 if total_citations else 0\n",
    "percent_male_total = (male_self / total_citations) * 100 if total_citations else 0\n",
    "percent_female_total = (female_self / total_citations) * 100 if total_citations else 0\n",
    "\n",
    "# Percent of self-citations\n",
    "percent_male_self = (male_self / total_self) * 100 if total_self else 0\n",
    "percent_female_self = (female_self / total_self) * 100 if total_self else 0\n",
    "\n",
    "print(\"Psychology Self-citation Statistics\")\n",
    "print(f\"Total citations:                {total_citations:,}\")\n",
    "print(f\"Total self-citations:           {total_self:,} ({percent_self_total:.2f}%)\\n\")\n",
    "\n",
    "print(f\"Male self-citations:            {male_self:,}\")\n",
    "print(f\"Female self-citations:          {female_self:,}\\n\")\n",
    "\n",
    "print(f\"Male self-citations as % of total:    {percent_male_total:.2f}%\")\n",
    "print(f\"Female self-citations as % of total:  {percent_female_total:.2f}%\\n\")\n",
    "\n",
    "print(f\"Male self-citations as % of self:     {percent_male_self:.2f}%\")\n",
    "print(f\"Female self-citations as % of self:   {percent_female_self:.2f}%\")\n"
   ]
  },
  {
   "cell_type": "code",
   "execution_count": 29,
   "id": "ffca045c",
   "metadata": {},
   "outputs": [
    {
     "name": "stderr",
     "output_type": "stream",
     "text": [
      "/tmp/ipykernel_1734889/3296082722.py:8: DtypeWarning: Columns (1) have mixed types. Specify dtype option on import or set low_memory=False.\n",
      "  df_all_physics = pd.read_csv(full_path)\n"
     ]
    },
    {
     "ename": "MemoryError",
     "evalue": "Unable to allocate 7.56 GiB for an array with shape (2, 507603157) and data type object",
     "output_type": "error",
     "traceback": [
      "\u001b[0;31m---------------------------------------------------------------------------\u001b[0m",
      "\u001b[0;31mMemoryError\u001b[0m                               Traceback (most recent call last)",
      "Cell \u001b[0;32mIn[29], line 8\u001b[0m\n\u001b[1;32m      5\u001b[0m self_path \u001b[38;5;241m=\u001b[39m \u001b[38;5;124m\"\u001b[39m\u001b[38;5;124mPhysics_random_sample_self_citations.csv\u001b[39m\u001b[38;5;124m\"\u001b[39m\n\u001b[1;32m      7\u001b[0m \u001b[38;5;66;03m# Load datasets\u001b[39;00m\n\u001b[0;32m----> 8\u001b[0m df_all_physics \u001b[38;5;241m=\u001b[39m \u001b[43mpd\u001b[49m\u001b[38;5;241;43m.\u001b[39;49m\u001b[43mread_csv\u001b[49m\u001b[43m(\u001b[49m\u001b[43mfull_path\u001b[49m\u001b[43m)\u001b[49m\n\u001b[1;32m      9\u001b[0m df_self_physics \u001b[38;5;241m=\u001b[39m pd\u001b[38;5;241m.\u001b[39mread_csv(self_path)\n\u001b[1;32m     11\u001b[0m \u001b[38;5;66;03m# Total counts\u001b[39;00m\n",
      "File \u001b[0;32m~/miniconda3/envs/myenv/lib/python3.10/site-packages/pandas/io/parsers/readers.py:1026\u001b[0m, in \u001b[0;36mread_csv\u001b[0;34m(filepath_or_buffer, sep, delimiter, header, names, index_col, usecols, dtype, engine, converters, true_values, false_values, skipinitialspace, skiprows, skipfooter, nrows, na_values, keep_default_na, na_filter, verbose, skip_blank_lines, parse_dates, infer_datetime_format, keep_date_col, date_parser, date_format, dayfirst, cache_dates, iterator, chunksize, compression, thousands, decimal, lineterminator, quotechar, quoting, doublequote, escapechar, comment, encoding, encoding_errors, dialect, on_bad_lines, delim_whitespace, low_memory, memory_map, float_precision, storage_options, dtype_backend)\u001b[0m\n\u001b[1;32m   1013\u001b[0m kwds_defaults \u001b[38;5;241m=\u001b[39m _refine_defaults_read(\n\u001b[1;32m   1014\u001b[0m     dialect,\n\u001b[1;32m   1015\u001b[0m     delimiter,\n\u001b[0;32m   (...)\u001b[0m\n\u001b[1;32m   1022\u001b[0m     dtype_backend\u001b[38;5;241m=\u001b[39mdtype_backend,\n\u001b[1;32m   1023\u001b[0m )\n\u001b[1;32m   1024\u001b[0m kwds\u001b[38;5;241m.\u001b[39mupdate(kwds_defaults)\n\u001b[0;32m-> 1026\u001b[0m \u001b[38;5;28;01mreturn\u001b[39;00m \u001b[43m_read\u001b[49m\u001b[43m(\u001b[49m\u001b[43mfilepath_or_buffer\u001b[49m\u001b[43m,\u001b[49m\u001b[43m \u001b[49m\u001b[43mkwds\u001b[49m\u001b[43m)\u001b[49m\n",
      "File \u001b[0;32m~/miniconda3/envs/myenv/lib/python3.10/site-packages/pandas/io/parsers/readers.py:626\u001b[0m, in \u001b[0;36m_read\u001b[0;34m(filepath_or_buffer, kwds)\u001b[0m\n\u001b[1;32m    623\u001b[0m     \u001b[38;5;28;01mreturn\u001b[39;00m parser\n\u001b[1;32m    625\u001b[0m \u001b[38;5;28;01mwith\u001b[39;00m parser:\n\u001b[0;32m--> 626\u001b[0m     \u001b[38;5;28;01mreturn\u001b[39;00m \u001b[43mparser\u001b[49m\u001b[38;5;241;43m.\u001b[39;49m\u001b[43mread\u001b[49m\u001b[43m(\u001b[49m\u001b[43mnrows\u001b[49m\u001b[43m)\u001b[49m\n",
      "File \u001b[0;32m~/miniconda3/envs/myenv/lib/python3.10/site-packages/pandas/io/parsers/readers.py:1968\u001b[0m, in \u001b[0;36mTextFileReader.read\u001b[0;34m(self, nrows)\u001b[0m\n\u001b[1;32m   1965\u001b[0m     \u001b[38;5;28;01melse\u001b[39;00m:\n\u001b[1;32m   1966\u001b[0m         new_col_dict \u001b[38;5;241m=\u001b[39m col_dict\n\u001b[0;32m-> 1968\u001b[0m     df \u001b[38;5;241m=\u001b[39m \u001b[43mDataFrame\u001b[49m\u001b[43m(\u001b[49m\n\u001b[1;32m   1969\u001b[0m \u001b[43m        \u001b[49m\u001b[43mnew_col_dict\u001b[49m\u001b[43m,\u001b[49m\n\u001b[1;32m   1970\u001b[0m \u001b[43m        \u001b[49m\u001b[43mcolumns\u001b[49m\u001b[38;5;241;43m=\u001b[39;49m\u001b[43mcolumns\u001b[49m\u001b[43m,\u001b[49m\n\u001b[1;32m   1971\u001b[0m \u001b[43m        \u001b[49m\u001b[43mindex\u001b[49m\u001b[38;5;241;43m=\u001b[39;49m\u001b[43mindex\u001b[49m\u001b[43m,\u001b[49m\n\u001b[1;32m   1972\u001b[0m \u001b[43m        \u001b[49m\u001b[43mcopy\u001b[49m\u001b[38;5;241;43m=\u001b[39;49m\u001b[38;5;129;43;01mnot\u001b[39;49;00m\u001b[43m \u001b[49m\u001b[43musing_copy_on_write\u001b[49m\u001b[43m(\u001b[49m\u001b[43m)\u001b[49m\u001b[43m,\u001b[49m\n\u001b[1;32m   1973\u001b[0m \u001b[43m    \u001b[49m\u001b[43m)\u001b[49m\n\u001b[1;32m   1975\u001b[0m     \u001b[38;5;28mself\u001b[39m\u001b[38;5;241m.\u001b[39m_currow \u001b[38;5;241m+\u001b[39m\u001b[38;5;241m=\u001b[39m new_rows\n\u001b[1;32m   1976\u001b[0m \u001b[38;5;28;01mreturn\u001b[39;00m df\n",
      "File \u001b[0;32m~/miniconda3/envs/myenv/lib/python3.10/site-packages/pandas/core/frame.py:778\u001b[0m, in \u001b[0;36mDataFrame.__init__\u001b[0;34m(self, data, index, columns, dtype, copy)\u001b[0m\n\u001b[1;32m    772\u001b[0m     mgr \u001b[38;5;241m=\u001b[39m \u001b[38;5;28mself\u001b[39m\u001b[38;5;241m.\u001b[39m_init_mgr(\n\u001b[1;32m    773\u001b[0m         data, axes\u001b[38;5;241m=\u001b[39m{\u001b[38;5;124m\"\u001b[39m\u001b[38;5;124mindex\u001b[39m\u001b[38;5;124m\"\u001b[39m: index, \u001b[38;5;124m\"\u001b[39m\u001b[38;5;124mcolumns\u001b[39m\u001b[38;5;124m\"\u001b[39m: columns}, dtype\u001b[38;5;241m=\u001b[39mdtype, copy\u001b[38;5;241m=\u001b[39mcopy\n\u001b[1;32m    774\u001b[0m     )\n\u001b[1;32m    776\u001b[0m \u001b[38;5;28;01melif\u001b[39;00m \u001b[38;5;28misinstance\u001b[39m(data, \u001b[38;5;28mdict\u001b[39m):\n\u001b[1;32m    777\u001b[0m     \u001b[38;5;66;03m# GH#38939 de facto copy defaults to False only in non-dict cases\u001b[39;00m\n\u001b[0;32m--> 778\u001b[0m     mgr \u001b[38;5;241m=\u001b[39m \u001b[43mdict_to_mgr\u001b[49m\u001b[43m(\u001b[49m\u001b[43mdata\u001b[49m\u001b[43m,\u001b[49m\u001b[43m \u001b[49m\u001b[43mindex\u001b[49m\u001b[43m,\u001b[49m\u001b[43m \u001b[49m\u001b[43mcolumns\u001b[49m\u001b[43m,\u001b[49m\u001b[43m \u001b[49m\u001b[43mdtype\u001b[49m\u001b[38;5;241;43m=\u001b[39;49m\u001b[43mdtype\u001b[49m\u001b[43m,\u001b[49m\u001b[43m \u001b[49m\u001b[43mcopy\u001b[49m\u001b[38;5;241;43m=\u001b[39;49m\u001b[43mcopy\u001b[49m\u001b[43m,\u001b[49m\u001b[43m \u001b[49m\u001b[43mtyp\u001b[49m\u001b[38;5;241;43m=\u001b[39;49m\u001b[43mmanager\u001b[49m\u001b[43m)\u001b[49m\n\u001b[1;32m    779\u001b[0m \u001b[38;5;28;01melif\u001b[39;00m \u001b[38;5;28misinstance\u001b[39m(data, ma\u001b[38;5;241m.\u001b[39mMaskedArray):\n\u001b[1;32m    780\u001b[0m     \u001b[38;5;28;01mfrom\u001b[39;00m\u001b[38;5;250m \u001b[39m\u001b[38;5;21;01mnumpy\u001b[39;00m\u001b[38;5;21;01m.\u001b[39;00m\u001b[38;5;21;01mma\u001b[39;00m\u001b[38;5;250m \u001b[39m\u001b[38;5;28;01mimport\u001b[39;00m mrecords\n",
      "File \u001b[0;32m~/miniconda3/envs/myenv/lib/python3.10/site-packages/pandas/core/internals/construction.py:503\u001b[0m, in \u001b[0;36mdict_to_mgr\u001b[0;34m(data, index, columns, dtype, typ, copy)\u001b[0m\n\u001b[1;32m    499\u001b[0m     \u001b[38;5;28;01melse\u001b[39;00m:\n\u001b[1;32m    500\u001b[0m         \u001b[38;5;66;03m# dtype check to exclude e.g. range objects, scalars\u001b[39;00m\n\u001b[1;32m    501\u001b[0m         arrays \u001b[38;5;241m=\u001b[39m [x\u001b[38;5;241m.\u001b[39mcopy() \u001b[38;5;28;01mif\u001b[39;00m \u001b[38;5;28mhasattr\u001b[39m(x, \u001b[38;5;124m\"\u001b[39m\u001b[38;5;124mdtype\u001b[39m\u001b[38;5;124m\"\u001b[39m) \u001b[38;5;28;01melse\u001b[39;00m x \u001b[38;5;28;01mfor\u001b[39;00m x \u001b[38;5;129;01min\u001b[39;00m arrays]\n\u001b[0;32m--> 503\u001b[0m \u001b[38;5;28;01mreturn\u001b[39;00m \u001b[43marrays_to_mgr\u001b[49m\u001b[43m(\u001b[49m\u001b[43marrays\u001b[49m\u001b[43m,\u001b[49m\u001b[43m \u001b[49m\u001b[43mcolumns\u001b[49m\u001b[43m,\u001b[49m\u001b[43m \u001b[49m\u001b[43mindex\u001b[49m\u001b[43m,\u001b[49m\u001b[43m \u001b[49m\u001b[43mdtype\u001b[49m\u001b[38;5;241;43m=\u001b[39;49m\u001b[43mdtype\u001b[49m\u001b[43m,\u001b[49m\u001b[43m \u001b[49m\u001b[43mtyp\u001b[49m\u001b[38;5;241;43m=\u001b[39;49m\u001b[43mtyp\u001b[49m\u001b[43m,\u001b[49m\u001b[43m \u001b[49m\u001b[43mconsolidate\u001b[49m\u001b[38;5;241;43m=\u001b[39;49m\u001b[43mcopy\u001b[49m\u001b[43m)\u001b[49m\n",
      "File \u001b[0;32m~/miniconda3/envs/myenv/lib/python3.10/site-packages/pandas/core/internals/construction.py:152\u001b[0m, in \u001b[0;36marrays_to_mgr\u001b[0;34m(arrays, columns, index, dtype, verify_integrity, typ, consolidate)\u001b[0m\n\u001b[1;32m    149\u001b[0m axes \u001b[38;5;241m=\u001b[39m [columns, index]\n\u001b[1;32m    151\u001b[0m \u001b[38;5;28;01mif\u001b[39;00m typ \u001b[38;5;241m==\u001b[39m \u001b[38;5;124m\"\u001b[39m\u001b[38;5;124mblock\u001b[39m\u001b[38;5;124m\"\u001b[39m:\n\u001b[0;32m--> 152\u001b[0m     \u001b[38;5;28;01mreturn\u001b[39;00m \u001b[43mcreate_block_manager_from_column_arrays\u001b[49m\u001b[43m(\u001b[49m\n\u001b[1;32m    153\u001b[0m \u001b[43m        \u001b[49m\u001b[43marrays\u001b[49m\u001b[43m,\u001b[49m\u001b[43m \u001b[49m\u001b[43maxes\u001b[49m\u001b[43m,\u001b[49m\u001b[43m \u001b[49m\u001b[43mconsolidate\u001b[49m\u001b[38;5;241;43m=\u001b[39;49m\u001b[43mconsolidate\u001b[49m\u001b[43m,\u001b[49m\u001b[43m \u001b[49m\u001b[43mrefs\u001b[49m\u001b[38;5;241;43m=\u001b[39;49m\u001b[43mrefs\u001b[49m\n\u001b[1;32m    154\u001b[0m \u001b[43m    \u001b[49m\u001b[43m)\u001b[49m\n\u001b[1;32m    155\u001b[0m \u001b[38;5;28;01melif\u001b[39;00m typ \u001b[38;5;241m==\u001b[39m \u001b[38;5;124m\"\u001b[39m\u001b[38;5;124marray\u001b[39m\u001b[38;5;124m\"\u001b[39m:\n\u001b[1;32m    156\u001b[0m     \u001b[38;5;28;01mreturn\u001b[39;00m ArrayManager(arrays, [index, columns])\n",
      "File \u001b[0;32m~/miniconda3/envs/myenv/lib/python3.10/site-packages/pandas/core/internals/managers.py:2144\u001b[0m, in \u001b[0;36mcreate_block_manager_from_column_arrays\u001b[0;34m(arrays, axes, consolidate, refs)\u001b[0m\n\u001b[1;32m   2142\u001b[0m     raise_construction_error(\u001b[38;5;28mlen\u001b[39m(arrays), arrays[\u001b[38;5;241m0\u001b[39m]\u001b[38;5;241m.\u001b[39mshape, axes, e)\n\u001b[1;32m   2143\u001b[0m \u001b[38;5;28;01mif\u001b[39;00m consolidate:\n\u001b[0;32m-> 2144\u001b[0m     \u001b[43mmgr\u001b[49m\u001b[38;5;241;43m.\u001b[39;49m\u001b[43m_consolidate_inplace\u001b[49m\u001b[43m(\u001b[49m\u001b[43m)\u001b[49m\n\u001b[1;32m   2145\u001b[0m \u001b[38;5;28;01mreturn\u001b[39;00m mgr\n",
      "File \u001b[0;32m~/miniconda3/envs/myenv/lib/python3.10/site-packages/pandas/core/internals/managers.py:1788\u001b[0m, in \u001b[0;36mBlockManager._consolidate_inplace\u001b[0;34m(self)\u001b[0m\n\u001b[1;32m   1782\u001b[0m \u001b[38;5;28;01mdef\u001b[39;00m\u001b[38;5;250m \u001b[39m\u001b[38;5;21m_consolidate_inplace\u001b[39m(\u001b[38;5;28mself\u001b[39m) \u001b[38;5;241m-\u001b[39m\u001b[38;5;241m>\u001b[39m \u001b[38;5;28;01mNone\u001b[39;00m:\n\u001b[1;32m   1783\u001b[0m     \u001b[38;5;66;03m# In general, _consolidate_inplace should only be called via\u001b[39;00m\n\u001b[1;32m   1784\u001b[0m     \u001b[38;5;66;03m#  DataFrame._consolidate_inplace, otherwise we will fail to invalidate\u001b[39;00m\n\u001b[1;32m   1785\u001b[0m     \u001b[38;5;66;03m#  the DataFrame's _item_cache. The exception is for newly-created\u001b[39;00m\n\u001b[1;32m   1786\u001b[0m     \u001b[38;5;66;03m#  BlockManager objects not yet attached to a DataFrame.\u001b[39;00m\n\u001b[1;32m   1787\u001b[0m     \u001b[38;5;28;01mif\u001b[39;00m \u001b[38;5;129;01mnot\u001b[39;00m \u001b[38;5;28mself\u001b[39m\u001b[38;5;241m.\u001b[39mis_consolidated():\n\u001b[0;32m-> 1788\u001b[0m         \u001b[38;5;28mself\u001b[39m\u001b[38;5;241m.\u001b[39mblocks \u001b[38;5;241m=\u001b[39m \u001b[43m_consolidate\u001b[49m\u001b[43m(\u001b[49m\u001b[38;5;28;43mself\u001b[39;49m\u001b[38;5;241;43m.\u001b[39;49m\u001b[43mblocks\u001b[49m\u001b[43m)\u001b[49m\n\u001b[1;32m   1789\u001b[0m         \u001b[38;5;28mself\u001b[39m\u001b[38;5;241m.\u001b[39m_is_consolidated \u001b[38;5;241m=\u001b[39m \u001b[38;5;28;01mTrue\u001b[39;00m\n\u001b[1;32m   1790\u001b[0m         \u001b[38;5;28mself\u001b[39m\u001b[38;5;241m.\u001b[39m_known_consolidated \u001b[38;5;241m=\u001b[39m \u001b[38;5;28;01mTrue\u001b[39;00m\n",
      "File \u001b[0;32m~/miniconda3/envs/myenv/lib/python3.10/site-packages/pandas/core/internals/managers.py:2269\u001b[0m, in \u001b[0;36m_consolidate\u001b[0;34m(blocks)\u001b[0m\n\u001b[1;32m   2267\u001b[0m new_blocks: \u001b[38;5;28mlist\u001b[39m[Block] \u001b[38;5;241m=\u001b[39m []\n\u001b[1;32m   2268\u001b[0m \u001b[38;5;28;01mfor\u001b[39;00m (_can_consolidate, dtype), group_blocks \u001b[38;5;129;01min\u001b[39;00m grouper:\n\u001b[0;32m-> 2269\u001b[0m     merged_blocks, _ \u001b[38;5;241m=\u001b[39m \u001b[43m_merge_blocks\u001b[49m\u001b[43m(\u001b[49m\n\u001b[1;32m   2270\u001b[0m \u001b[43m        \u001b[49m\u001b[38;5;28;43mlist\u001b[39;49m\u001b[43m(\u001b[49m\u001b[43mgroup_blocks\u001b[49m\u001b[43m)\u001b[49m\u001b[43m,\u001b[49m\u001b[43m \u001b[49m\u001b[43mdtype\u001b[49m\u001b[38;5;241;43m=\u001b[39;49m\u001b[43mdtype\u001b[49m\u001b[43m,\u001b[49m\u001b[43m \u001b[49m\u001b[43mcan_consolidate\u001b[49m\u001b[38;5;241;43m=\u001b[39;49m\u001b[43m_can_consolidate\u001b[49m\n\u001b[1;32m   2271\u001b[0m \u001b[43m    \u001b[49m\u001b[43m)\u001b[49m\n\u001b[1;32m   2272\u001b[0m     new_blocks \u001b[38;5;241m=\u001b[39m extend_blocks(merged_blocks, new_blocks)\n\u001b[1;32m   2273\u001b[0m \u001b[38;5;28;01mreturn\u001b[39;00m \u001b[38;5;28mtuple\u001b[39m(new_blocks)\n",
      "File \u001b[0;32m~/miniconda3/envs/myenv/lib/python3.10/site-packages/pandas/core/internals/managers.py:2301\u001b[0m, in \u001b[0;36m_merge_blocks\u001b[0;34m(blocks, dtype, can_consolidate)\u001b[0m\n\u001b[1;32m   2298\u001b[0m     new_values \u001b[38;5;241m=\u001b[39m bvals2[\u001b[38;5;241m0\u001b[39m]\u001b[38;5;241m.\u001b[39m_concat_same_type(bvals2, axis\u001b[38;5;241m=\u001b[39m\u001b[38;5;241m0\u001b[39m)\n\u001b[1;32m   2300\u001b[0m argsort \u001b[38;5;241m=\u001b[39m np\u001b[38;5;241m.\u001b[39margsort(new_mgr_locs)\n\u001b[0;32m-> 2301\u001b[0m new_values \u001b[38;5;241m=\u001b[39m \u001b[43mnew_values\u001b[49m\u001b[43m[\u001b[49m\u001b[43margsort\u001b[49m\u001b[43m]\u001b[49m\n\u001b[1;32m   2302\u001b[0m new_mgr_locs \u001b[38;5;241m=\u001b[39m new_mgr_locs[argsort]\n\u001b[1;32m   2304\u001b[0m bp \u001b[38;5;241m=\u001b[39m BlockPlacement(new_mgr_locs)\n",
      "\u001b[0;31mMemoryError\u001b[0m: Unable to allocate 7.56 GiB for an array with shape (2, 507603157) and data type object"
     ]
    }
   ],
   "source": [
    "import pandas as pd\n",
    "\n",
    "# Paths to your files\n",
    "full_path = \"Physics_Author_Citations_random_sample_Genderized.csv\"\n",
    "self_path = \"Physics_random_sample_self_citations.csv\"\n",
    "\n",
    "# Load datasets\n",
    "df_all_physics = pd.read_csv(full_path)\n",
    "df_self_physics = pd.read_csv(self_path)\n",
    "\n",
    "# Total counts\n",
    "total_citations = len(df_all_physics)\n",
    "total_self = len(df_self_physics)\n",
    "\n",
    "# Gender-specific self-citation counts\n",
    "male_self = len(df_self_physics[df_self_physics['SourceGender'] == 'male'])\n",
    "female_self = len(df_self_physics[df_self_physics['SourceGender'] == 'female'])\n",
    "\n",
    "# Percent of total citations\n",
    "percent_self_total = (total_self / total_citations) * 100 if total_citations else 0\n",
    "percent_male_total = (male_self / total_citations) * 100 if total_citations else 0\n",
    "percent_female_total = (female_self / total_citations) * 100 if total_citations else 0\n",
    "\n",
    "# Percent of self-citations\n",
    "percent_male_self = (male_self / total_self) * 100 if total_self else 0\n",
    "percent_female_self = (female_self / total_self) * 100 if total_self else 0\n",
    "\n",
    "print(\"Physics Self-citation Statistics\")\n",
    "print(f\"Total citations:                {total_citations:,}\")\n",
    "print(f\"Total self-citations:           {total_self:,} ({percent_self_total:.2f}%)\\n\")\n",
    "\n",
    "print(f\"Male self-citations:            {male_self:,}\")\n",
    "print(f\"Female self-citations:          {female_self:,}\\n\")\n",
    "\n",
    "print(f\"Male self-citations as % of total:    {percent_male_total:.2f}%\")\n",
    "print(f\"Female self-citations as % of total:  {percent_female_total:.2f}%\\n\")\n",
    "\n",
    "print(f\"Male self-citations as % of self:     {percent_male_self:.2f}%\")\n",
    "print(f\"Female self-citations as % of self:   {percent_female_self:.2f}%\")\n"
   ]
  },
  {
   "cell_type": "code",
   "execution_count": null,
   "id": "73bc9e8b",
   "metadata": {},
   "outputs": [],
   "source": []
  }
 ],
 "metadata": {
  "kernelspec": {
   "display_name": "Python (myenv)",
   "language": "python",
   "name": "myenv"
  },
  "language_info": {
   "codemirror_mode": {
    "name": "ipython",
    "version": 3
   },
   "file_extension": ".py",
   "mimetype": "text/x-python",
   "name": "python",
   "nbconvert_exporter": "python",
   "pygments_lexer": "ipython3",
   "version": "3.10.13"
  }
 },
 "nbformat": 4,
 "nbformat_minor": 5
}
