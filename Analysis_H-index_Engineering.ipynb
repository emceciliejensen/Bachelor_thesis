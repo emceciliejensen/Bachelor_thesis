{
 "cells": [
  {
   "cell_type": "code",
   "execution_count": 1,
   "id": "1c21aef3",
   "metadata": {},
   "outputs": [
    {
     "name": "stderr",
     "output_type": "stream",
     "text": [
      "/tmp/ipykernel_3688980/2538228665.py:17: FutureWarning: \n",
      "\n",
      "Passing `palette` without assigning `hue` is deprecated and will be removed in v0.14.0. Assign the `x` variable to `hue` and set `legend=False` for the same effect.\n",
      "\n",
      "  sns.boxplot(data=df_filtered, x=\"Gender\", y=\"HIndex\", showfliers=False, palette=palette_Emma)\n"
     ]
    },
    {
     "data": {
      "image/png": "[encoded data removed]",
      "text/plain": [
       "<Figure size 640x480 with 1 Axes>"
      ]
     },
     "metadata": {},
     "output_type": "display_data"
    },
    {
     "name": "stdout",
     "output_type": "stream",
     "text": [
      "Summary Statistics of H-index by Gender (Engineering)\n",
      "            count       mean        std  min  25%  50%   75%     max\n",
      "Gender                                                              \n",
      "female   432355.0  13.556302  27.877749  1.0  2.0  5.0  14.0  2069.0\n",
      "male    3159135.0  14.054822  32.591996  1.0  2.0  5.0  14.0  8209.0\n"
     ]
    }
   ],
   "source": [
    "import pandas as pd\n",
    "import seaborn as sns\n",
    "import matplotlib.pyplot as plt\n",
    "\n",
    "df = pd.read_csv(\"Engineering_H_index_with_gender.csv\")\n",
    "\n",
    "df_filtered = df[df[\"HIndex\"] > 1e-6]\n",
    "df_filtered = df_filtered[df_filtered[\"Gender\"] != \"unknown\"]\n",
    "\n",
    "\n",
    "palette_Emma = {\n",
    "    \"male\": \"royalblue\",\n",
    "    \"female\": \"hotpink\"\n",
    "}\n",
    "\n",
    "\n",
    "sns.boxplot(data=df_filtered, x=\"Gender\", y=\"HIndex\", showfliers=False, palette=palette_Emma)\n",
    "plt.yscale('log')\n",
    "plt.title(\"(Engineering) H-Index Boxplot by Gender\")\n",
    "plt.show()\n",
    "\n",
    "#print(df.groupby(\"Gender\")[\"HIndex\"].describe())\n",
    "\n",
    "print(\"Summary Statistics of H-index by Gender (Engineering)\")\n",
    "print(\n",
    "    df[df[\"Gender\"].isin([\"male\", \"female\"])]\n",
    "    .groupby(\"Gender\")[\"HIndex\"]\n",
    "    .describe()\n",
    ")"
   ]
  },
  {
   "cell_type": "code",
   "execution_count": 2,
   "id": "839b043a",
   "metadata": {},
   "outputs": [
    {
     "name": "stdout",
     "output_type": "stream",
     "text": [
      "Mann-Whitney U test: U=697730435542.5, p=1.2230590086196199e-119\n"
     ]
    }
   ],
   "source": [
    "from scipy.stats import mannwhitneyu\n",
    "\n",
    "male = df[df[\"Gender\"] == \"male\"][\"HIndex\"]\n",
    "female = df[df[\"Gender\"] == \"female\"][\"HIndex\"]\n",
    "\n",
    "stat, p = mannwhitneyu(male, female, alternative=\"two-sided\")\n",
    "print(f\"Mann-Whitney U test: U={stat}, p={p}\")"
   ]
  },
  {
   "cell_type": "code",
   "execution_count": 3,
   "id": "b4a540cd",
   "metadata": {},
   "outputs": [
    {
     "name": "stdout",
     "output_type": "stream",
     "text": [
      "            AuthorId  HIndex   Gender  Genderized\n",
      "0         1995014452      16     male         0.0\n",
      "1         2002579779      18     male         0.0\n",
      "2         2250382311      33     male         0.0\n",
      "5           97662032     365     male         0.0\n",
      "6          131295039     147     male         0.0\n",
      "...              ...     ...      ...         ...\n",
      "17035676  3108206617      24  unknown         NaN\n",
      "17035677  3110475383      24  unknown         NaN\n",
      "17035685  3107260487      21  unknown         NaN\n",
      "17035686  3108729064      21  unknown         NaN\n",
      "17035723  2997064162      24  unknown         NaN\n",
      "\n",
      "[1654493 rows x 4 columns]\n",
      "Gender\n",
      "unknown    0.469577\n",
      "male       0.465676\n",
      "female     0.064747\n",
      "Name: proportion, dtype: float64\n"
     ]
    }
   ],
   "source": [
    "top_10_percent = df[df[\"HIndex\"] > df[\"HIndex\"].quantile(0.9)]\n",
    "top_gender_dist = top_10_percent[\"Gender\"].value_counts(normalize=True)\n",
    "print(top_10_percent)\n",
    "print(top_gender_dist)"
   ]
  },
  {
   "cell_type": "code",
   "execution_count": 4,
   "id": "034b4749",
   "metadata": {},
   "outputs": [
    {
     "name": "stdout",
     "output_type": "stream",
     "text": [
      "Gender\n",
      "unknown    0.789180\n",
      "male       0.185440\n",
      "female     0.025379\n",
      "Name: proportion, dtype: float64\n"
     ]
    }
   ],
   "source": [
    "overall_dist = df[\"Gender\"].value_counts(normalize=True)\n",
    "print(overall_dist)"
   ]
  },
  {
   "cell_type": "code",
   "execution_count": 5,
   "id": "1e53b5d3",
   "metadata": {},
   "outputs": [
    {
     "name": "stdout",
     "output_type": "stream",
     "text": [
      "Gini coefficient for male (In-HIndex): 0.6721\n",
      "Gini coefficient for unknown (In-HIndex): 0.8847\n",
      "Gini coefficient for female (In-HIndex): 0.6690\n",
      "Overall Gini coefficient (HIndex): 0.8429\n"
     ]
    }
   ],
   "source": [
    "import numpy as np\n",
    "\n",
    "\n",
    "def gini(array):\n",
    "    array = array[np.isfinite(array)]\n",
    "    array = np.sort(array)\n",
    "    n = len(array)\n",
    "    if n == 0 or np.sum(array) == 0:\n",
    "        return np.nan\n",
    "    gini_index = (2 * np.sum((np.arange(1, n + 1) * array))) / (n * np.sum(array)) - (n + 1) / n\n",
    "    return gini_index\n",
    "\n",
    "\n",
    "import pandas as pd\n",
    "for gender in df[\"Gender\"].unique():\n",
    "    group = df[df[\"Gender\"] == gender]\n",
    "    gini_score = gini(group[\"HIndex\"].values)\n",
    "    print(f\"Gini coefficient for {gender} (In-HIndex): {gini_score:.4f}\")\n",
    "    \n",
    "overall_gini = gini(df[\"HIndex\"].values)\n",
    "print(f\"Overall Gini coefficient (HIndex): {overall_gini:.4f}\")"
   ]
  },
  {
   "cell_type": "code",
   "execution_count": null,
   "id": "3535c883",
   "metadata": {},
   "outputs": [],
   "source": []
  }
 ],
 "metadata": {
  "kernelspec": {
   "display_name": "Python (myenv)",
   "language": "python",
   "name": "myenv"
  },
  "language_info": {
   "codemirror_mode": {
    "name": "ipython",
    "version": 3
   },
   "file_extension": ".py",
   "mimetype": "text/x-python",
   "name": "python",
   "nbconvert_exporter": "python",
   "pygments_lexer": "ipython3",
   "version": "3.10.13"
  }
 },
 "nbformat": 4,
 "nbformat_minor": 5
}
