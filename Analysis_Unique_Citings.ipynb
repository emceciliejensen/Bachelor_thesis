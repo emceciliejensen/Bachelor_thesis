{
 "cells": [
  {
   "cell_type": "code",
   "execution_count": 1,
   "id": "fa04aad3",
   "metadata": {},
   "outputs": [
    {
     "name": "stderr",
     "output_type": "stream",
     "text": [
      "/tmp/ipykernel_3688247/535534215.py:18: FutureWarning: \n",
      "\n",
      "Passing `palette` without assigning `hue` is deprecated and will be removed in v0.14.0. Assign the `x` variable to `hue` and set `legend=False` for the same effect.\n",
      "\n",
      "  sns.boxplot(data=df_filtered, x=\"Gender\", y=\"UniqueCitingAuthors\", showfliers=False, palette=palette_Emma)\n"
     ]
    },
    {
     "data": {
      "image/png": "[encoded data removed]",
      "text/plain": [
       "<Figure size 640x480 with 1 Axes>"
      ]
     },
     "metadata": {},
     "output_type": "display_data"
    },
    {
     "name": "stdout",
     "output_type": "stream",
     "text": [
      "Summary Statistics of Unique Citing Papers by Gender (Engineering)\n",
      "            count       mean         std  min  25%  50%   75%      max\n",
      "Gender                                                                \n",
      "female   432355.0  22.931225   80.682285  1.0  3.0  7.0  18.0  10223.0\n",
      "male    3159135.0  30.171884  117.667035  1.0  4.0  9.0  24.0  28594.0\n"
     ]
    }
   ],
   "source": [
    "import numpy as np\n",
    "import pandas as pd\n",
    "import seaborn as sns\n",
    "import matplotlib.pyplot as plt\n",
    "\n",
    "df = pd.read_csv(\"Engineering_unique_citing_authors.csv\")\n",
    "\n",
    "df_filtered = df[df[\"UniqueCitingAuthors\"] > 1e-6]\n",
    "df_filtered = df_filtered[df_filtered[\"Gender\"] != \"unknown\"]\n",
    "\n",
    "\n",
    "palette_Emma = {\n",
    "    \"male\": \"royalblue\",\n",
    "    \"female\": \"hotpink\"\n",
    "}\n",
    "\n",
    "\n",
    "sns.boxplot(data=df_filtered, x=\"Gender\", y=\"UniqueCitingAuthors\", showfliers=False, palette=palette_Emma)\n",
    "plt.yscale('log')\n",
    "plt.title(\"(Engineering) UniqueCitingAuthors Boxplot by Gender\")\n",
    "plt.show()\n",
    "\n",
    "#print(df.groupby(\"Gender\")[\"UniqueCitingAuthors\"].describe())\n",
    "\n",
    "print(\"Summary Statistics of Unique Citing Papers by Gender (Engineering)\")\n",
    "print(\n",
    "    df[df[\"Gender\"].isin([\"male\", \"female\"])]\n",
    "    .groupby(\"Gender\")[\"UniqueCitingAuthors\"]\n",
    "    .describe()\n",
    ")"
   ]
  },
  {
   "cell_type": "code",
   "execution_count": 3,
   "id": "faef2124",
   "metadata": {},
   "outputs": [
    {
     "name": "stdout",
     "output_type": "stream",
     "text": [
      "Mann–Whitney U test: U=744024233834.0, p=0.0\n"
     ]
    }
   ],
   "source": [
    "from scipy.stats import mannwhitneyu\n",
    "\n",
    "male = df[df[\"Gender\"] == \"male\"][\"UniqueCitingAuthors\"]\n",
    "female = df[df[\"Gender\"] == \"female\"][\"UniqueCitingAuthors\"]\n",
    "\n",
    "stat, p = mannwhitneyu(male, female, alternative=\"two-sided\")\n",
    "print(f\"Mann–Whitney U test: U={stat}, p={p}\")\n"
   ]
  },
  {
   "cell_type": "code",
   "execution_count": 4,
   "id": "85cad7a8",
   "metadata": {},
   "outputs": [
    {
     "name": "stdout",
     "output_type": "stream",
     "text": [
      "           AuthorId  UniqueCitingAuthors   Gender  log_UniqueCitingAuthors\n",
      "0        2030979222                   76  unknown                 1.886491\n",
      "6        2103588016                  294     male                 2.469822\n",
      "9        1985944754                  126  unknown                 2.103804\n",
      "17       1995584767                  105     male                 2.025306\n",
      "27       2025220245                   75  unknown                 1.880814\n",
      "...             ...                  ...      ...                      ...\n",
      "5798223  2109852801                  100   female                 2.004321\n",
      "5798233   693681954                  483  unknown                 2.684845\n",
      "5798237  2201239978                  145   female                 2.164353\n",
      "5798242  2135807102                  161     male                 2.209515\n",
      "5798245  3071815911                   55  unknown                 1.748188\n",
      "\n",
      "[570755 rows x 4 columns]\n",
      "Gender\n",
      "male       0.621780\n",
      "unknown    0.314955\n",
      "female     0.063265\n",
      "Name: proportion, dtype: float64\n"
     ]
    }
   ],
   "source": [
    "top_10_percent = df[df[\"UniqueCitingAuthors\"] > df[\"UniqueCitingAuthors\"].quantile(0.9)]\n",
    "top_gender_dist = top_10_percent[\"Gender\"].value_counts(normalize=True)\n",
    "print(top_10_percent)\n",
    "print(top_gender_dist)"
   ]
  },
  {
   "cell_type": "code",
   "execution_count": 5,
   "id": "370878d2",
   "metadata": {},
   "outputs": [
    {
     "name": "stdout",
     "output_type": "stream",
     "text": [
      "Gender\n",
      "male       0.544840\n",
      "unknown    0.380594\n",
      "female     0.074566\n",
      "Name: proportion, dtype: float64\n"
     ]
    }
   ],
   "source": [
    "overall_dist = df[\"Gender\"].value_counts(normalize=True)\n",
    "print(overall_dist)\n"
   ]
  },
  {
   "cell_type": "code",
   "execution_count": 6,
   "id": "3948895e",
   "metadata": {},
   "outputs": [
    {
     "name": "stdout",
     "output_type": "stream",
     "text": [
      "Gini coefficient for unknown(UniqueCitingAuthors): 0.6939\n",
      "Gini coefficient for male(UniqueCitingAuthors): 0.7307\n",
      "Gini coefficient for female(UniqueCitingAuthors): 0.7188\n",
      "Overall Gini coefficient (UniqueCitingAuthors): 0.7197\n"
     ]
    }
   ],
   "source": [
    "import numpy as np\n",
    "\n",
    "def gini(array):\n",
    "    array = np.sort(array)\n",
    "    n = len(array)\n",
    "    cumulative = np.cumsum(array, dtype=float)\n",
    "    relative_mean = array.mean()\n",
    "    gini_index = (2 * np.sum((np.arange(1, n + 1) * array))) / (n * np.sum(array)) - (n + 1) / n\n",
    "    return gini_index\n",
    "\n",
    "import pandas as pd\n",
    "for gender in df[\"Gender\"].unique():\n",
    "    group = df[df[\"Gender\"] == gender]\n",
    "    gini_score = gini(group[\"UniqueCitingAuthors\"].values)\n",
    "    print(f\"Gini coefficient for {gender}(UniqueCitingAuthors): {gini_score:.4f}\")\n",
    "overall_gini = gini(df[\"UniqueCitingAuthors\"].values)\n",
    "print(f\"Overall Gini coefficient (UniqueCitingAuthors): {overall_gini:.4f}\")"
   ]
  },
  {
   "cell_type": "code",
   "execution_count": null,
   "id": "0e812c66",
   "metadata": {},
   "outputs": [],
   "source": []
  }
 ],
 "metadata": {
  "kernelspec": {
   "display_name": "Python (myenv)",
   "language": "python",
   "name": "myenv"
  },
  "language_info": {
   "codemirror_mode": {
    "name": "ipython",
    "version": 3
   },
   "file_extension": ".py",
   "mimetype": "text/x-python",
   "name": "python",
   "nbconvert_exporter": "python",
   "pygments_lexer": "ipython3",
   "version": "3.10.13"
  }
 },
 "nbformat": 4,
 "nbformat_minor": 5
}
