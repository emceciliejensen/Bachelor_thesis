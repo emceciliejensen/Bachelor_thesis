{
 "cells": [
  {
   "cell_type": "code",
   "execution_count": 1,
   "id": "9932a5f8",
   "metadata": {},
   "outputs": [
    {
     "name": "stderr",
     "output_type": "stream",
     "text": [
      "/tmp/ipykernel_3681013/1043000628.py:16: FutureWarning: \n",
      "\n",
      "Passing `palette` without assigning `hue` is deprecated and will be removed in v0.14.0. Assign the `x` variable to `hue` and set `legend=False` for the same effect.\n",
      "\n",
      "  sns.boxplot(data=df_filtered, x=\"Gender\", y=\"InDegree\", order=[\"male\", \"female\"], showfliers=False, palette=palette_Emma)\n"
     ]
    },
    {
     "data": {
      "image/png": "[encoded data removed]",
      "text/plain": [
       "<Figure size 640x480 with 1 Axes>"
      ]
     },
     "metadata": {},
     "output_type": "display_data"
    },
    {
     "name": "stdout",
     "output_type": "stream",
     "text": [
      "Summary Statistics of InDegree by Gender (Engineering)\n",
      "            count       mean         std  min  25%  50%   75%      max\n",
      "Gender                                                                \n",
      "female   692960.0  14.307363   64.690821  0.0  0.0  3.0  10.0  10223.0\n",
      "male    4299465.0  22.169516  101.738605  0.0  0.0  5.0  16.0  28594.0\n"
     ]
    }
   ],
   "source": [
    "import pandas as pd\n",
    "import seaborn as sns\n",
    "import matplotlib.pyplot as plt\n",
    "\n",
    "df = pd.read_csv(\"Engineering_degree_centrality_igraph.csv\")\n",
    "df_filtered = df[df[\"InDegree\"] > 1e-6]\n",
    "df_filtered = df_filtered[df_filtered[\"Gender\"] != \"unknown\"]\n",
    "\n",
    "\n",
    "palette_Emma = {\n",
    "    \"male\": \"royalblue\",\n",
    "    \"female\": \"hotpink\"\n",
    "}\n",
    "\n",
    "\n",
    "sns.boxplot(data=df_filtered, x=\"Gender\", y=\"InDegree\", order=[\"male\", \"female\"], showfliers=False, palette=palette_Emma)\n",
    "plt.yscale('log')\n",
    "plt.title(\"(Engineering) InDegree Boxplot by Gender\")\n",
    "plt.show()\n",
    "\n",
    "#print(df.groupby(\"Gender\")[\"InDegree\"].describe())\n",
    "\n",
    "print(\"Summary Statistics of InDegree by Gender (Engineering)\")\n",
    "print(\n",
    "    df[df[\"Gender\"].isin([\"male\", \"female\"])]\n",
    "    .groupby(\"Gender\")[\"InDegree\"]\n",
    "    .describe()\n",
    ")"
   ]
  },
  {
   "cell_type": "code",
   "execution_count": 3,
   "id": "faef2124",
   "metadata": {},
   "outputs": [
    {
     "name": "stdout",
     "output_type": "stream",
     "text": [
      "Mann-Whitney U test: U=1715898460334.0, p=0.0\n"
     ]
    }
   ],
   "source": [
    "from scipy.stats import mannwhitneyu\n",
    "\n",
    "male = df[df[\"Gender\"] == \"male\"][\"InDegree\"]\n",
    "female = df[df[\"Gender\"] == \"female\"][\"InDegree\"]\n",
    "\n",
    "stat, p = mannwhitneyu(male, female, alternative=\"two-sided\")\n",
    "print(f\"Mann-Whitney U test: U={stat}, p={p}\")"
   ]
  },
  {
   "cell_type": "code",
   "execution_count": 5,
   "id": "18332d7a",
   "metadata": {},
   "outputs": [
    {
     "name": "stdout",
     "output_type": "stream",
     "text": [
      "           AuthorId  InDegree  OutDegree   Gender  log_InDegree\n",
      "1        2023280306  2.305351         57     male      2.307496\n",
      "3        2942456473  1.845098         58  unknown      1.851258\n",
      "7        2597977724  1.973128         17   female      1.977724\n",
      "8        2670296893  1.949390        161     male      1.954243\n",
      "9        2109043807  1.991226         59     male      1.995635\n",
      "...             ...       ...        ...      ...           ...\n",
      "6242104  2150497552  1.662758          5     male      1.672098\n",
      "6249927  2294457405  1.633468          0  unknown      1.643453\n",
      "6254221  2753383607  1.612784          0     male      1.623249\n",
      "6307641  2986220172  1.612784          0     male      1.623249\n",
      "6348469  2486367690  1.623249          0  unknown      1.633468\n",
      "\n",
      "[776101 rows x 5 columns]\n",
      "Gender\n",
      "male       0.611736\n",
      "unknown    0.325146\n",
      "female     0.063118\n",
      "Name: proportion, dtype: float64\n"
     ]
    }
   ],
   "source": [
    "top_10_percent = df[df[\"InDegree\"] > df[\"InDegree\"].quantile(0.9)]\n",
    "top_gender_dist = top_10_percent[\"Gender\"].value_counts(normalize=True)\n",
    "print(top_10_percent)\n",
    "print(top_gender_dist)"
   ]
  },
  {
   "cell_type": "code",
   "execution_count": 6,
   "id": "183cf6b2",
   "metadata": {},
   "outputs": [
    {
     "name": "stdout",
     "output_type": "stream",
     "text": [
      "Gender\n",
      "male       0.542751\n",
      "unknown    0.369772\n",
      "female     0.087477\n",
      "Name: proportion, dtype: float64\n"
     ]
    }
   ],
   "source": [
    "overall_dist = df[\"Gender\"].value_counts(normalize=True)\n",
    "print(overall_dist)\n"
   ]
  },
  {
   "cell_type": "code",
   "execution_count": 8,
   "id": "ffa1979a",
   "metadata": {},
   "outputs": [
    {
     "name": "stdout",
     "output_type": "stream",
     "text": [
      "Gini coefficient for male (In-Degree): 0.3341\n",
      "Gini coefficient for unknown (In-Degree): 0.3413\n",
      "Gini coefficient for female (In-Degree): 0.3486\n",
      "Overall Gini coefficient (In-Degree): 0.3385\n"
     ]
    }
   ],
   "source": [
    "import numpy as np\n",
    "\n",
    "\n",
    "def gini(array):\n",
    "    array = array[np.isfinite(array)]\n",
    "    array = np.sort(array)\n",
    "    n = len(array)\n",
    "    if n == 0 or np.sum(array) == 0:\n",
    "        return np.nan  \n",
    "    gini_index = (2 * np.sum((np.arange(1, n + 1) * array))) / (n * np.sum(array)) - (n + 1) / n\n",
    "    return gini_index\n",
    "\n",
    "import pandas as pd\n",
    "for gender in df[\"Gender\"].unique():\n",
    "    group = df[df[\"Gender\"] == gender]\n",
    "    gini_score = gini(group[\"InDegree\"].values)\n",
    "    print(f\"Gini coefficient for {gender} (In-Degree): {gini_score:.4f}\")\n",
    "    \n",
    "overall_gini = gini(df[\"InDegree\"].values)\n",
    "print(f\"Overall Gini coefficient (In-Degree): {overall_gini:.4f}\")"
   ]
  },
  {
   "cell_type": "code",
   "execution_count": null,
   "id": "15499651",
   "metadata": {},
   "outputs": [],
   "source": []
  }
 ],
 "metadata": {
  "kernelspec": {
   "display_name": "Python (myenv)",
   "language": "python",
   "name": "myenv"
  },
  "language_info": {
   "codemirror_mode": {
    "name": "ipython",
    "version": 3
   },
   "file_extension": ".py",
   "mimetype": "text/x-python",
   "name": "python",
   "nbconvert_exporter": "python",
   "pygments_lexer": "ipython3",
   "version": "3.10.13"
  }
 },
 "nbformat": 4,
 "nbformat_minor": 5
}
