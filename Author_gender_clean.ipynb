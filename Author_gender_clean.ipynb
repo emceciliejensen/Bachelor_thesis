{
 "cells": [
  {
   "cell_type": "code",
   "execution_count": null,
   "id": "666f4c0b",
   "metadata": {},
   "outputs": [],
   "source": [
    "import pandas as pd\n",
    "\n",
    "df = pd.read_csv(\n",
    "    \"Authors_Genderized_Full_with_headers.csv\",\n",
    "    dtype=str,\n",
    "    sep=\",\",\n",
    "    encoding=\"utf-8\",\n",
    "    on_bad_lines=\"error\"  # or 'warn' to just log\n",
    ")\n"
   ]
  },
  {
   "cell_type": "code",
   "execution_count": null,
   "id": "a68e5ccc",
   "metadata": {},
   "outputs": [],
   "source": [
    "# Convert only now that you're confident the data is clean\n",
    "df[\"AuthorId\"] = pd.to_numeric(df[\"AuthorId\"], errors=\"raise\")       # raise = strict\n",
    "df[\"Genderized\"] = pd.to_numeric(df[\"Genderized\"], errors=\"raise\")   # optional: or 'coerce'\n"
   ]
  },
  {
   "cell_type": "code",
   "execution_count": null,
   "id": "51ae0035",
   "metadata": {},
   "outputs": [],
   "source": [
    "df.to_csv(\"Cleaned_Authors_Genderized.csv\", index=False)\n"
   ]
  }
 ],
 "metadata": {
  "kernelspec": {
   "display_name": "Python (myenv)",
   "language": "python",
   "name": "myenv"
  },
  "language_info": {
   "codemirror_mode": {
    "name": "ipython",
    "version": 3
   },
   "file_extension": ".py",
   "mimetype": "text/x-python",
   "name": "python",
   "nbconvert_exporter": "python",
   "pygments_lexer": "ipython3",
   "version": "3.10.13"
  }
 },
 "nbformat": 4,
 "nbformat_minor": 5
}
