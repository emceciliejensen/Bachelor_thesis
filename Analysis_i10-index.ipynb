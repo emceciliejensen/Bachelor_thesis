{
 "cells": [
  {
   "cell_type": "code",
   "execution_count": 3,
   "id": "1c21aef3",
   "metadata": {},
   "outputs": [
    {
     "name": "stderr",
     "output_type": "stream",
     "text": [
      "/tmp/ipykernel_3689932/906363438.py:18: FutureWarning: \n",
      "\n",
      "Passing `palette` without assigning `hue` is deprecated and will be removed in v0.14.0. Assign the `x` variable to `hue` and set `legend=False` for the same effect.\n",
      "\n",
      "  sns.boxplot(data=df_filtered, x=\"Gender\", y=\"i10index\", order=[\"male\", \"female\"], showfliers=False, palette=palette_Emma)\n"
     ]
    },
    {
     "data": {
      "image/png": "[encoded data removed]",
      "text/plain": [
       "<Figure size 640x480 with 1 Axes>"
      ]
     },
     "metadata": {},
     "output_type": "display_data"
    },
    {
     "name": "stdout",
     "output_type": "stream",
     "text": [
      "Summary Statistics of i10-index by Gender (Engineering)\n",
      "            count       mean         std  min  25%  50%   75%      max\n",
      "Gender                                                                \n",
      "female   432355.0  40.269417  234.289225  0.0  0.0  2.0  22.0  56865.0\n",
      "male    3159135.0  48.891097  298.206697  0.0  0.0  2.0  21.0  65945.0\n"
     ]
    }
   ],
   "source": [
    "import pandas as pd\n",
    "import seaborn as sns\n",
    "import matplotlib.pyplot as plt\n",
    "\n",
    "df = pd.read_csv(\"Engineering_i10_index_with_gender.csv\")\n",
    "\n",
    "\n",
    "df_filtered = df[df[\"i10index\"] > 1e-6]\n",
    "df_filtered = df_filtered[df_filtered[\"Gender\"] != \"unknown\"]\n",
    "\n",
    "\n",
    "palette_Emma = {\n",
    "    \"male\": \"royalblue\",\n",
    "    \"female\": \"hotpink\"\n",
    "}\n",
    "\n",
    "\n",
    "sns.boxplot(data=df_filtered, x=\"Gender\", y=\"i10index\", order=[\"male\", \"female\"], showfliers=False, palette=palette_Emma)\n",
    "plt.yscale('log')\n",
    "plt.title(\"(Engineering) i10-Index Boxplot by Gender\")\n",
    "plt.show()\n",
    "\n",
    "#print(df.groupby(\"Gender\")[\"i10index\"].describe())\n",
    "print(\"Summary Statistics of i10-index by Gender (Engineering)\")\n",
    "print(\n",
    "    df[df[\"Gender\"].isin([\"male\", \"female\"])]\n",
    "    .groupby(\"Gender\")[\"i10index\"]\n",
    "    .describe()\n",
    ")"
   ]
  },
  {
   "cell_type": "code",
   "execution_count": 3,
   "id": "04583d3e",
   "metadata": {},
   "outputs": [
    {
     "name": "stdout",
     "output_type": "stream",
     "text": [
      "Mann-Whitney U test: U=684252076936.0, p=0.035672820285039944\n"
     ]
    }
   ],
   "source": [
    "from scipy.stats import mannwhitneyu\n",
    "\n",
    "male = df[df[\"Gender\"] == \"male\"][\"i10index\"]\n",
    "female = df[df[\"Gender\"] == \"female\"][\"i10index\"]\n",
    "\n",
    "stat, p = mannwhitneyu(male, female, alternative=\"two-sided\")\n",
    "print(f\"Mann-Whitney U test: U={stat}, p={p}\")"
   ]
  },
  {
   "cell_type": "code",
   "execution_count": 4,
   "id": "a6e94926",
   "metadata": {},
   "outputs": [
    {
     "name": "stdout",
     "output_type": "stream",
     "text": [
      "            AuthorId  i10index   Gender  Genderized\n",
      "0         1995014452        24     male         0.0\n",
      "1         2002579779        32     male         0.0\n",
      "2         2250382311       365     male         0.0\n",
      "5           97662032      6040     male         0.0\n",
      "6          131295039      1254     male         0.0\n",
      "...              ...       ...      ...         ...\n",
      "17035676  3108206617        40  unknown         NaN\n",
      "17035677  3110475383        40  unknown         NaN\n",
      "17035685  3107260487        32  unknown         NaN\n",
      "17035686  3108729064        32  unknown         NaN\n",
      "17035723  2997064162        33  unknown         NaN\n",
      "\n",
      "[1700474 rows x 4 columns]\n",
      "Gender\n",
      "male       0.467743\n",
      "unknown    0.467354\n",
      "female     0.064904\n",
      "Name: proportion, dtype: float64\n"
     ]
    }
   ],
   "source": [
    "top_10_percent = df[df[\"i10index\"] > df[\"i10index\"].quantile(0.9)]\n",
    "top_gender_dist = top_10_percent[\"Gender\"].value_counts(normalize=True)\n",
    "print(top_10_percent)\n",
    "print(top_gender_dist)"
   ]
  },
  {
   "cell_type": "code",
   "execution_count": 4,
   "id": "82f00c6f",
   "metadata": {},
   "outputs": [
    {
     "name": "stdout",
     "output_type": "stream",
     "text": [
      "Gender\n",
      "unknown    0.789180\n",
      "male       0.185440\n",
      "female     0.025379\n",
      "Name: proportion, dtype: float64\n"
     ]
    }
   ],
   "source": [
    "overall_dist = df[\"Gender\"].value_counts(normalize=True)\n",
    "print(overall_dist)\n"
   ]
  },
  {
   "cell_type": "code",
   "execution_count": 6,
   "id": "e12f9bbe",
   "metadata": {},
   "outputs": [
    {
     "name": "stdout",
     "output_type": "stream",
     "text": [
      "Gini coefficient for male (i10index): 0.8910\n",
      "Gini coefficient for unknown (i10index): 0.9511\n",
      "Gini coefficient for female (i10index): 0.8741\n",
      "Overall Gini coefficient (i10index): 0.9458\n"
     ]
    }
   ],
   "source": [
    "import numpy as np\n",
    "\n",
    "\n",
    "def gini(array):\n",
    "    array = array[np.isfinite(array)]\n",
    "    array = np.sort(array)\n",
    "    n = len(array)\n",
    "    if n == 0 or np.sum(array) == 0:\n",
    "        return np.nan\n",
    "    gini_index = (2 * np.sum((np.arange(1, n + 1) * array))) / (n * np.sum(array)) - (n + 1) / n\n",
    "    return gini_index\n",
    "\n",
    "import pandas as pd\n",
    "for gender in df[\"Gender\"].unique():\n",
    "    group = df[df[\"Gender\"] == gender]\n",
    "    gini_score = gini(group[\"i10index\"].values)\n",
    "    print(f\"Gini coefficient for {gender} (i10index): {gini_score:.4f}\")\n",
    "    \n",
    "overall_gini = gini(df[\"i10index\"].values)\n",
    "print(f\"Overall Gini coefficient (i10index): {overall_gini:.4f}\")"
   ]
  },
  {
   "cell_type": "code",
   "execution_count": null,
   "id": "1e7b04bb",
   "metadata": {},
   "outputs": [],
   "source": []
  }
 ],
 "metadata": {
  "kernelspec": {
   "display_name": "Python (myenv)",
   "language": "python",
   "name": "myenv"
  },
  "language_info": {
   "codemirror_mode": {
    "name": "ipython",
    "version": 3
   },
   "file_extension": ".py",
   "mimetype": "text/x-python",
   "name": "python",
   "nbconvert_exporter": "python",
   "pygments_lexer": "ipython3",
   "version": "3.10.13"
  }
 },
 "nbformat": 4,
 "nbformat_minor": 5
}
