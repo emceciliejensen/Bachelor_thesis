{
 "cells": [
  {
   "cell_type": "code",
   "execution_count": null,
   "id": "cfb1a891",
   "metadata": {},
   "outputs": [],
   "source": [
    "import pandas as pd\n",
    "df_phys = pd.read_csv(\"physics_PFOS.csv\")#, error_bad_lines=False)\n",
    "print(df_phys)\n",
    "print(df_phys.head(5))"
   ]
  },
  {
   "cell_type": "code",
   "execution_count": null,
   "id": "51a039ee",
   "metadata": {},
   "outputs": [],
   "source": [
    "print(df_phys.dtypes)"
   ]
  },
  {
   "cell_type": "code",
   "execution_count": null,
   "id": "ee595acb",
   "metadata": {},
   "outputs": [],
   "source": [
    "print(len(df_phys))"
   ]
  },
  {
   "cell_type": "code",
   "execution_count": null,
   "id": "175dbd4c",
   "metadata": {},
   "outputs": [],
   "source": [
    "import pandas as pd\n",
    "\n",
    "df_phys = pd.read_csv(\"physics_PFOS_clean.csv\", dtype={'PaperId': 'float64'})\n",
    "\n",
    "df_phys = df_phys[df_phys['PaperId'].notna()]\n",
    "\n",
    "df_phys['PaperId'] = df_phys['PaperId'].astype('Int64')\n",
    "\n",
    "df_phys.to_csv(\"physics_PFOS.csv\", index=False)\n"
   ]
  },
  {
   "cell_type": "code",
   "execution_count": null,
   "id": "09cb0443",
   "metadata": {},
   "outputs": [],
   "source": [
   ]
  },
  {
   "cell_type": "code",
   "execution_count": null,
   "id": "f159c307",
   "metadata": {},
   "outputs": [],
   "source": [
    "with open(\"physics_PFOS.csv\") as fin, open(\"physics_PFOS_clean.csv\", \"w\") as fout:\n",
    "    for line in fin:\n",
    "        if len(line.strip().split(',')) == 3:\n",
    "            fout.write(line)"
   ]
  },
  {
   "cell_type": "code",
   "execution_count": null,
   "id": "9eb0a893",
   "metadata": {},
   "outputs": [],
   "source": [
    "input_file = \"physics_PFOS.csv\"\n",
    "output_file = \"physics_PFOS_clean.csv\"\n",
    "\n",
    "good_lines = 0\n",
    "bad_lines = 0\n",
    "\n",
    "print(f\"Starting cleaning: reading from {input_file}...\")\n",
    "\n",
    "with open(input_file) as fin, open(output_file, \"w\") as fout:\n",
    "    for i, line in enumerate(fin):\n",
    "        fields = line.strip().split(',')\n",
    "        if len(fields) == 3:\n",
    "            fout.write(line)\n",
    "            good_lines += 1\n",
    "        else:\n",
    "            bad_lines += 1\n",
    "                \n",
   ]
  },
  {
   "cell_type": "code",
   "execution_count": null,
   "id": "6ff72525",
   "metadata": {},
   "outputs": [],
   "source": [
    "bad_lines = []\n",
    "with open(\"PaperFieldsOfStudy.csv\") as f:\n",
    "    for i, line in enumerate(f):\n",
    "        fields = line.strip().split(\",\")\n",
    "        if len(fields) != 3:\n",
    "            bad_lines.append((i, fields))\n",
    "\n",
    "\n",
    "for i, fields in bad_lines[:5]:\n",
    "    print(f\"Line {i}: {fields}\")\n"
   ]
  },
  {
   "cell_type": "code",
   "execution_count": null,
   "id": "64f77868",
   "metadata": {},
   "outputs": [],
   "source": [
    "import pandas as pd\n",
    "df_soci = pd.read_csv(\"sociology_PFOS.csv\")#, error_bad_lines=False)\n",
    "print(len(df_soci))\n",
    "df_soci.head(50)"
   ]
  },
  {
   "cell_type": "code",
   "execution_count": null,
   "id": "50c22625",
   "metadata": {},
   "outputs": [],
   "source": [
    "import pandas as pd\n",
    "df_engi = pd.read_csv(\"Engineering_Author_Citations.csv\")\n",
    "print(len(df_engi))\n",
    "df_engi.head(2)"
   ]
  },
  {
   "cell_type": "code",
   "execution_count": null,
   "id": "55f7f4fd",
   "metadata": {},
   "outputs": [],
   "source": [
    "import pandas as pd\n",
    "df_psych = pd.read_csv(\"psychology_PFOS.csv\")#, error_bad_lines=False)\n",
    "print(len(df_psych))\n",
    "df_psych.head(10)"
   ]
  },
  {
   "cell_type": "code",
   "execution_count": null,
   "id": "db6f40eb",
   "metadata": {},
   "outputs": [],
   "source": [
    "\n",
    "import pandas as pd\n",
    "\n",
    "def filter_papers(field_file, output_file):\n",
    "    usecols = ['PaperId']\n",
    "    df = pd.read_csv(field_file, usecols=usecols)\n",
    "    df.drop_duplicates().to_csv(output_file, index=False)\n",
    "\n",
    "#Running function\n",
    "if __name__ == \"__main__\":\n",
    "    filter_papers(\"engineering_PFOS.csv\", \"Engineering_FilteredPaperIds.csv\")\n"
   ]
  },
  {
   "cell_type": "code",
   "execution_count": null,
   "id": "76a7771f",
   "metadata": {},
   "outputs": [],
   "source": [
   ]
  },
  {
   "cell_type": "code",
   "execution_count": 3,
   "id": "d84a12dc",
   "metadata": {},
   "outputs": [
    {
     "name": "stdout",
     "output_type": "stream",
     "text": [
      "Index(['PaperId', 'PaperReferenceId'], dtype='object')\n"
     ]
    }
   ],
   "source": [
    "import pandas as pd\n",
    "df = pd.read_csv(\"PaperReferences.csv\", nrows=5)\n",
    "print(df.columns)\n"
   ]
  },
  {
   "cell_type": "code",
   "execution_count": null,
   "id": "d2a1895e",
   "metadata": {},
   "outputs": [],
   "source": []
  }
 ],
 "metadata": {
  "kernelspec": {
   "display_name": "Python 3",
   "language": "python",
   "name": "python3"
  },
  "language_info": {
   "codemirror_mode": {
    "name": "ipython",
    "version": 3
   },
   "file_extension": ".py",
   "mimetype": "text/x-python",
   "name": "python",
   "nbconvert_exporter": "python",
   "pygments_lexer": "ipython3",
   "version": "3.6.8"
  }
 },
 "nbformat": 4,
 "nbformat_minor": 5
}
