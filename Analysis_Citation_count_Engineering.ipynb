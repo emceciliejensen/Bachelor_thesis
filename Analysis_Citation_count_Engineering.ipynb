{
 "cells": [
  {
   "cell_type": "code",
   "execution_count": 2,
   "id": "9932a5f8",
   "metadata": {},
   "outputs": [
    {
     "name": "stderr",
     "output_type": "stream",
     "text": [
      "/tmp/ipykernel_3669159/1896561342.py:18: FutureWarning: \n",
      "\n",
      "Passing `palette` without assigning `hue` is deprecated and will be removed in v0.14.0. Assign the `x` variable to `hue` and set `legend=False` for the same effect.\n",
      "\n",
      "  sns.boxplot(data=df_filtered, x=\"Gender\", y=\"CitationCount\", showfliers=False, palette=palette_Emma)\n"
     ]
    },
    {
     "data": {
      "image/png": "[encoded data removed]",
      "text/plain": [
       "<Figure size 640x480 with 1 Axes>"
      ]
     },
     "metadata": {},
     "output_type": "display_data"
    },
    {
     "name": "stdout",
     "output_type": "stream",
     "text": [
      "Summary Statistics of Citation Count by Gender (Engineering)\n",
      "            count       mean         std  min  25%   50%   75%       max\n",
      "Gender                                                                  \n",
      "female   432355.0  34.899837  188.090264  1.0  4.0   8.0  23.0   27857.0\n",
      "male    3159135.0  49.428321  332.547562  1.0  4.0  11.0  31.0  276200.0\n"
     ]
    }
   ],
   "source": [
    "import pandas as pd\n",
    "import seaborn as sns\n",
    "import matplotlib.pyplot as plt\n",
    "import numpy as np\n",
    "\n",
    "df = pd.read_csv(\"Engineering_citation_count.csv\")\n",
    "\n",
    "df_filtered = df[df[\"CitationCount\"] > 1e-6]\n",
    "df_filtered = df_filtered[df_filtered[\"Gender\"] != \"unknown\"]\n",
    "\n",
    "\n",
    "palette_Emma = {\n",
    "    \"male\": \"royalblue\",\n",
    "    \"female\": \"hotpink\"\n",
    "}\n",
    "\n",
    "\n",
    "sns.boxplot(data=df_filtered, x=\"Gender\", y=\"CitationCount\", showfliers=False, palette=palette_Emma)\n",
    "plt.yscale('log')\n",
    "plt.title(\"(Engineering) CitationCount Boxplot by Gender\")\n",
    "plt.show()\n",
    "\n",
    "#print(df.groupby(\"Gender\")[\"CitationCount\"].describe())\n",
    "print(\"Summary Statistics of Citation Count by Gender (Engineering)\")\n",
    "print(\n",
    "    df[df[\"Gender\"].isin([\"male\", \"female\"])]\n",
    "    .groupby(\"Gender\")[\"CitationCount\"]\n",
    "    .describe()\n",
    ")"
   ]
  },
  {
   "cell_type": "code",
   "execution_count": 2,
   "id": "faef2124",
   "metadata": {},
   "outputs": [
    {
     "name": "stdout",
     "output_type": "stream",
     "text": [
      "Mann–Whitney U test:\n",
      "U = 750780301506.0\n",
      "p-value = 0\n"
     ]
    }
   ],
   "source": [
    "from scipy.stats import mannwhitneyu\n",
    "male = df[df[\"Gender\"] == \"male\"][\"CitationCount\"]\n",
    "female = df[df[\"Gender\"] == \"female\"][\"CitationCount\"]\n",
    "\n",
    "stat, p = mannwhitneyu(male, female, alternative=\"two-sided\")\n",
    "\n",
    "print(f\"Mann–Whitney U test:\\nU = {stat}\\np-value = {p:.4g}\")"
   ]
  },
  {
   "cell_type": "code",
   "execution_count": 3,
   "id": "2da74eb7",
   "metadata": {},
   "outputs": [
    {
     "name": "stdout",
     "output_type": "stream",
     "text": [
      "           AuthorId  CitationCount   Gender  log_CitationCount\n",
      "3        1993674352            190     male           2.281033\n",
      "5        2304076097            114  unknown           2.060698\n",
      "17       2071834467            311     male           2.494155\n",
      "30       2550031549             92   female           1.968483\n",
      "46       3131221108             91     male           1.963788\n",
      "...             ...            ...      ...                ...\n",
      "5798254   111998675           1662  unknown           3.220892\n",
      "5798264  2181589640            210     male           2.324282\n",
      "5798268  2040862675            799     male           2.903090\n",
      "5798269  2157952856            393     male           2.595496\n",
      "5798271  2298861629            178  unknown           2.252853\n",
      "\n",
      "[571815 rows x 4 columns]\n",
      "Gender\n",
      "male       0.544914\n",
      "unknown    0.401649\n",
      "female     0.053437\n",
      "Name: proportion, dtype: float64\n"
     ]
    }
   ],
   "source": [
    "top_10_percent = df[df[\"CitationCount\"] > df[\"CitationCount\"].quantile(0.9)]\n",
    "top_gender_dist = top_10_percent[\"Gender\"].value_counts(normalize=True)\n",
    "print(top_10_percent)\n",
    "print(top_gender_dist)"
   ]
  },
  {
   "cell_type": "code",
   "execution_count": 4,
   "id": "04c412fe",
   "metadata": {},
   "outputs": [
    {
     "name": "stdout",
     "output_type": "stream",
     "text": [
      "Gender\n",
      "male       0.544840\n",
      "unknown    0.380594\n",
      "female     0.074566\n",
      "Name: proportion, dtype: float64\n"
     ]
    }
   ],
   "source": [
    "overall_dist = df[\"Gender\"].value_counts(normalize=True)\n",
    "print(overall_dist)"
   ]
  },
  {
   "cell_type": "code",
   "execution_count": 3,
   "id": "0c40c048",
   "metadata": {},
   "outputs": [
    {
     "name": "stdout",
     "output_type": "stream",
     "text": [
      "Gini coefficient for male(CitationCount): 0.7868\n",
      "Gini coefficient for unknown(CitationCount): 0.7380\n",
      "Gini coefficient for female(CitationCount): 0.7723\n",
      "Overall Gini coefficient (CitationCount): 0.7689\n"
     ]
    }
   ],
   "source": [
    "import numpy as np\n",
    "\n",
    "def gini(array):\n",
    "    array = np.sort(array)\n",
    "    n = len(array)\n",
    "    cumulative = np.cumsum(array, dtype=float)\n",
    "    relative_mean = array.mean()\n",
    "    gini_index = (2 * np.sum((np.arange(1, n + 1) * array))) / (n * np.sum(array)) - (n + 1) / n\n",
    "    return gini_index\n",
    "\n",
    "import pandas as pd\n",
    "for gender in df[\"Gender\"].unique():\n",
    "    group = df[df[\"Gender\"] == gender]\n",
    "    gini_score = gini(group[\"CitationCount\"].values)\n",
    "    print(f\"Gini coefficient for {gender}(CitationCount): {gini_score:.4f}\")\n",
    "\n",
    "    overall_gini = gini(df[\"CitationCount\"].values)\n",
    "print(f\"Overall Gini coefficient (CitationCount): {overall_gini:.4f}\")"
   ]
  },
  {
   "cell_type": "code",
   "execution_count": null,
   "id": "b77a5912",
   "metadata": {},
   "outputs": [],
   "source": []
  }
 ],
 "metadata": {
  "kernelspec": {
   "display_name": "Python (myenv)",
   "language": "python",
   "name": "myenv"
  },
  "language_info": {
   "codemirror_mode": {
    "name": "ipython",
    "version": 3
   },
   "file_extension": ".py",
   "mimetype": "text/x-python",
   "name": "python",
   "nbconvert_exporter": "python",
   "pygments_lexer": "ipython3",
   "version": "3.10.13"
  }
 },
 "nbformat": 4,
 "nbformat_minor": 5
}
