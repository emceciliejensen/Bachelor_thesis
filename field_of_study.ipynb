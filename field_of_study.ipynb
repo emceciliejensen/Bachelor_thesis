{
 "cells": [
  {
   "cell_type": "code",
   "execution_count": 1,
   "id": "2c8e2edb",
   "metadata": {},
   "outputs": [
    {
     "name": "stdout",
     "output_type": "stream",
     "text": [
      "medicine_FOS_id= [71924100]\n",
      "sociology_FOS_id= [144024400]\n",
      "engineering_FOS_id [127413603]\n",
      "psychology_FOS_id [15744967]\n",
      "physics_FOS_id [121332964]\n"
     ]
    }
   ],
   "source": [
    "import pandas as pd\n",
    "#Getting field of study id's for medicine, humanities, engineering, psychology, physics.\n",
    "\n",
    "df_FOS = pd.read_csv(\"field_of_study.csv\")\n",
    "#medicine\n",
    "medicine_FOS_id = df_FOS[df_FOS[\"NormalizedName\"] == \"medicine\"][\"FieldOfStudyId\"].values\n",
    "print(\"medicine_FOS_id=\",medicine_FOS_id)\n",
    "#sociology\n",
    "sociology_FOS_id = df_FOS[df_FOS[\"NormalizedName\"] == \"sociology\"][\"FieldOfStudyId\"].values\n",
    "print(\"sociology_FOS_id=\",sociology_FOS_id)\n",
    "#engineering\n",
    "engineering_FOS_id = df_FOS[df_FOS[\"NormalizedName\"] == \"engineering\"][\"FieldOfStudyId\"].values\n",
    "print(\"engineering_FOS_id\",engineering_FOS_id)\n",
    "#psychology\n",
    "psychology_FOS_id = df_FOS[df_FOS[\"NormalizedName\"] == \"psychology\"][\"FieldOfStudyId\"].values\n",
    "print(\"psychology_FOS_id\",psychology_FOS_id)\n",
    "#physics\n",
    "physics_FOS_id = df_FOS[df_FOS[\"NormalizedName\"] == \"physics\"][\"FieldOfStudyId\"].values\n",
    "print(\"physics_FOS_id\",physics_FOS_id)"
   ]
  },
  {
   "cell_type": "code",
   "execution_count": null,
   "id": "073dd5c3",
   "metadata": {},
   "outputs": [],
   "source": [
    "#Getting authorships per gender and field for the chosen fields.\n",
    "df_authorships_GF = pd.read_csv(\"AuthorshipsPerYearFieldAndGender.csv\")\n",
    "#medicine\n",
    "medicine_authorships = df_authorships_GF[df_authorships_GF[\"FieldOfStudyId\"] == 71924100]#[\"FieldOfStudyId\"].values\n",
    "print(\"number of authorships for medicine field is\",len(medicine_authorships))\n",
    "#sociology\n",
    "sociology_authorships = df_authorships_GF[df_authorships_GF[\"FieldOfStudyId\"] == 144024400]#[\"FieldOfStudyId\"].values\n",
    "print(\"number of authorships for sociology field is\",len(sociology_authorships))\n",
    "#engineering\n",
    "engineering_authorships = df_authorships_GF[df_authorships_GF[\"FieldOfStudyId\"] == 127413603]#[\"FieldOfStudyId\"].values\n",
    "print(\"number of authorships for engineering field is\",len(medicine_authorships))\n",
    "#psychology\n",
    "psychology_authorships = df_authorships_GF[df_authorships_GF[\"FieldOfStudyId\"] == 15744967]#[\"FieldOfStudyId\"].values\n",
    "print(\"number of authorships for psychology field is\",len(psychology_authorships))\n",
    "#physics\n",
    "physics_authorships = df_authorships_GF[df_authorships_GF[\"FieldOfStudyId\"] == 121332964]#[\"FieldOfStudyId\"].values\n",
    "print(\"number of authorships for physics field is\",len(physics_authorships))"
   ]
  },
  {
   "cell_type": "code",
   "execution_count": null,
   "id": "4b712b72",
   "metadata": {},
   "outputs": [],
   "source": [
    "print(len(df_authorships_GF))"
   ]
  },
  {
   "cell_type": "code",
   "execution_count": null,
   "id": "89a2c1ce",
   "metadata": {},
   "outputs": [],
   "source": [
    "print(df_authorships_GF[\"FieldOfStudyId\"].unique())\n"
   ]
  },
  {
   "cell_type": "code",
   "execution_count": null,
   "id": "c128e003",
   "metadata": {},
   "outputs": [],
   "source": [
    "ids = df_authorships_GF[\"FieldOfStudyId\"].unique()\n",
    "\n",
    "# Assuming df is the DataFrame from field_of_study.csv\n",
    "matching_names = df[df[\"FieldOfStudyId\"].isin(ids)][[\"FieldOfStudyId\", \"NormalizedName\"]]\n",
    "print(matching_names)\n"
   ]
  },
  {
   "cell_type": "code",
   "execution_count": null,
   "id": "a623e36f",
   "metadata": {},
   "outputs": [],
   "source": [
    "# Read the CSV\n",
    "df = pd.read_csv(\"AuthorshipsPerGenderAndField1.csv\")\n",
    "\n",
    "# Filter for the desired FieldOfStudyId (e.g., medicine)\n",
    "medicine_id = 71924100\n",
    "medicine_authorships = df[df[\"FieldOfStudyId\"] == medicine_id]\n",
    "\n",
    "# Show result\n",
    "print(medicine_authorships[[\"FieldOfStudyId\", \"Authorships\"]])\n"
   ]
  },
  {
   "cell_type": "code",
   "execution_count": null,
   "id": "dd565a42",
   "metadata": {},
   "outputs": [],
   "source": [
    "import pandas as pd\n",
    "df_PFOS = pd.read_csv(\"PaperFieldsOfStudy.csv\")\n",
    "# Filter for the desired FieldOfStudyId (e.g., medicine)\n",
    "medicine_id = 71924100\n",
    "medicine_papers = df_PFOS[df_PFOS[\"FieldOfStudyId\"] == medicine_id]\n",
    "\n",
    "# Show result\n",
    "print(medicine_papers[[\"FieldOfStudyId\", \"PaperId\"]])"
   ]
  },
  {
   "cell_type": "code",
   "execution_count": null,
   "id": "668c8fc3",
   "metadata": {},
   "outputs": [],
   "source": [
    "import pandas as pd\n",
    "df_PFOS = pd.read_csv(\"PaperFieldsOfStudy.csv\")\n",
    "# Filter for the desired FieldOfStudyId (e.g., psychology)\n",
    "psychology_id = 15744967\n",
    "psychology_papers = df_PFOS[df_PFOS[\"FieldOfStudyId\"] == psychology_id]\n",
    "\n",
    "# Show result\n",
    "print(psychology_papers[[\"FieldOfStudyId\", \"PaperId\"]])"
   ]
  },
  {
   "cell_type": "code",
   "execution_count": null,
   "id": "de8ebf1f",
   "metadata": {},
   "outputs": [],
   "source": [
    "import pandas as pd\n",
    "df_PFOS = pd.read_csv(\"PaperFieldsOfStudy.csv\")\n",
    "# Filter for the desired FieldOfStudyId (e.g., sociology)\n",
    "sociology_id = 144024400\n",
    "sociology_papers = df_PFOS[df_PFOS[\"FieldOfStudyId\"] == sociology_id]\n",
    "\n",
    "# Show result\n",
    "print(sociology_papers[[\"FieldOfStudyId\", \"PaperId\"]])"
   ]
  },
  {
   "cell_type": "code",
   "execution_count": null,
   "id": "dc65a8de",
   "metadata": {},
   "outputs": [],
   "source": [
    "import pandas as pd\n",
    "df_PFOS = pd.read_csv(\"PaperFieldsOfStudy.csv\")\n",
    "# Filter for the desired FieldOfStudyId (e.g., physics)\n",
    "physics_id = 121332964\n",
    "physics_papers = df_PFOS[df_PFOS[\"FieldOfStudyId\"] == physics_id]\n",
    "\n",
    "# Show result\n",
    "print(physics_papers[[\"FieldOfStudyId\", \"PaperId\"]])"
   ]
  },
  {
   "cell_type": "code",
   "execution_count": null,
   "id": "9ed632ed",
   "metadata": {},
   "outputs": [],
   "source": [
    "import pandas as pd\n",
    "df_PFOS = pd.read_csv(\"PaperFieldsOfStudy.csv\")\n",
    "# Filter for the desired FieldOfStudyId (e.g., engineering)\n",
    "engineering_id = 127413603\n",
    "engineering_papers = df_PFOS[df_PFOS[\"FieldOfStudyId\"] == engineering_id]\n",
    "\n",
    "# Show result\n",
    "print(engineering_papers[[\"FieldOfStudyId\", \"PaperId\"]])"
   ]
  },
  {
   "cell_type": "code",
   "execution_count": null,
   "id": "6640d445",
   "metadata": {},
   "outputs": [],
   "source": [
    "import pandas as pd\n",
    "df_PFOS = pd.read_csv(\"PaperFieldsOfStudy.csv\", nrows=2)\n",
    "df_PFOS.head(2)"
   ]
  },
  {
   "cell_type": "code",
   "execution_count": null,
   "id": "c51ecf50",
   "metadata": {},
   "outputs": [],
   "source": [
    "1522848710 - 29389197 - 8222383 - 9266892 - 12659346 - 4444931\n",
    "#total PFOS      #medicine.   #psychology. #. physics.  #engineering.  #sociology\n",
    "#calculate how much the chosen field (udgør af) the dataset."
   ]
  },
  {
   "cell_type": "code",
   "execution_count": null,
   "id": "f70a750c",
   "metadata": {},
   "outputs": [],
   "source": [
    "1522848710-1458865961 #number of papers in combination of the 5 fields"
   ]
  },
  {
   "cell_type": "code",
   "execution_count": null,
   "id": "05746cee",
   "metadata": {},
   "outputs": [],
   "source": [
    "# Read the CSV\n",
    "import pandas as pd\n",
    "df = pd.read_csv(\"AuthorshipsPerGenderAndField1.csv\")\n",
    "df.head()\n",
    "print(len(df))"
   ]
  },
  {
   "cell_type": "code",
   "execution_count": null,
   "id": "abd08083",
   "metadata": {},
   "outputs": [],
   "source": [
    "#Creating csv's that contain fieldofstudyid, paperid, and authorid for the chosen fields:\n",
    "import pandas as pd\n",
    "\n",
    "# Load both datasets\n",
    "df_PFOS = pd.read_csv(\"PaperFieldsOfStudy.csv\")\n",
    "df_PAA = pd.read_csv(\"PaperAuthorAffiliations.csv\")\n",
    "\n",
    "# Define the fields you're interested in\n",
    "field_ids = {\n",
    "    \"medicine\": 71924100,\n",
    "    \"sociology\": 144024400,\n",
    "    \"engineering\": 127413603,\n",
    "    \"psychology\": 15744967,\n",
    "    \"physics\": 121332964,\n",
    "    \n",
    "}\n",
    "\n",
    "# Process each field\n",
    "for field_name, field_id in field_ids.items():\n",
    "    # Get papers in the field\n",
    "    field_papers = df_PFOS[df_PFOS[\"FieldOfStudyId\"] == field_id]\n",
    "\n",
    "    # Join with authors via PaperId\n",
    "    merged = pd.merge(field_papers, df_PAA, on=\"PaperId\", how=\"inner\")\n",
    "\n",
    "    # Select relevant columns\n",
    "    output_df = merged[[\"FieldOfStudyId\", \"PaperId\", \"AuthorId\"]]\n",
    "\n",
    "    # Write to CSV\n",
    "    output_filename = f\"{field_name}_papers_with_authors.csv\"\n",
    "    output_df.to_csv(output_filename, index=False)\n",
    "\n",
    "    print(f\"Saved {len(output_df)} rows to {output_filename}\")\n"
   ]
  },
  {
   "cell_type": "code",
   "execution_count": null,
   "id": "6778da86",
   "metadata": {},
   "outputs": [],
   "source": [
    "import pandas as pd\n",
    "\n",
    "# Load the full file\n",
    "df = pd.read_csv(\"PaperFieldsOfStudy.csv\")\n",
    "\n",
    "# Physics FieldOfStudyId\n",
    "physics_field_id = 121332964\n",
    "\n",
    "# Filter for physics\n",
    "df_physics = df[df[\"FieldOfStudyId\"] == physics_field_id]\n",
    "\n",
    "# Save to a new CSV\n",
    "df_physics.to_csv(\"physics_PFOS.csv\", index=False)\n",
    "\n",
    "print(f\"Saved {len(df_physics)} rows to physics_PFOS.csv\")\n"
   ]
  },
  {
   "cell_type": "code",
   "execution_count": null,
   "id": "7af82264",
   "metadata": {},
   "outputs": [],
   "source": [
    "import pandas as pd\n",
    "with open(\"physics_PFOS.csv\") as f:\n",
    "    for i, line in enumerate(f):\n",
    "        if i == 527504:  # zero-indexed\n",
    "            print(line)\n",
    "            break\n"
   ]
  },
  {
   "cell_type": "code",
   "execution_count": null,
   "id": "eb587048",
   "metadata": {},
   "outputs": [],
   "source": [
    "with open(\"physics_PFOS.csv\") as f:\n",
    "    for i, line in enumerate(f):\n",
    "        if 527500 <= i <= 527505:\n",
    "            print(f\"Line {i}: {repr(line)}\")\n"
   ]
  },
  {
   "cell_type": "code",
   "execution_count": null,
   "id": "52205a41",
   "metadata": {},
   "outputs": [],
   "source": [
    "import pandas as pd\n",
    "df_phys = pd.read_csv(\"physics_PFOS.csv\") #error_bad_lines=False)\n",
    "df_phys.head(5)"
   ]
  },
  {
   "cell_type": "code",
   "execution_count": null,
   "id": "eb905538",
   "metadata": {},
   "outputs": [],
   "source": [
    "bad_lines = 0\n",
    "total_lines = 0\n",
    "\n",
    "with open(\"physics_PFOS.csv\") as f:\n",
    "    for i, line in enumerate(f, 1):\n",
    "        total_lines += 1\n",
    "        fields = line.strip().split(',')\n",
    "        if len(fields) != 3:\n",
    "            bad_lines += 1\n",
    "            print(f\"Bad line {i}: {fields}\")\n",
    "\n",
    "print(f\"\\nTotal lines: {total_lines}\")\n",
    "print(f\"Malformed lines: {bad_lines}\")\n"
   ]
  },
  {
   "cell_type": "code",
   "execution_count": null,
   "id": "acb2a1c3",
   "metadata": {},
   "outputs": [],
   "source": []
  }
 ],
 "metadata": {
  "kernelspec": {
   "display_name": "Python 3",
   "language": "python",
   "name": "python3"
  },
  "language_info": {
   "codemirror_mode": {
    "name": "ipython",
    "version": 3
   },
   "file_extension": ".py",
   "mimetype": "text/x-python",
   "name": "python",
   "nbconvert_exporter": "python",
   "pygments_lexer": "ipython3",
   "version": "3.6.8"
  }
 },
 "nbformat": 4,
 "nbformat_minor": 5
}
