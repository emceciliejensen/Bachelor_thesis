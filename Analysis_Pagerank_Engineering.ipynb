{
 "cells": [
  {
   "cell_type": "code",
   "execution_count": 4,
   "id": "7f9be3ca",
   "metadata": {},
   "outputs": [
    {
     "name": "stderr",
     "output_type": "stream",
     "text": [
      "/tmp/ipykernel_312029/1553751450.py:17: FutureWarning: \n",
      "\n",
      "Passing `palette` without assigning `hue` is deprecated and will be removed in v0.14.0. Assign the `x` variable to `hue` and set `legend=False` for the same effect.\n",
      "\n",
      "  sns.boxplot(data=df_filtered, x=\"Gender\", y=\"PageRank\", order=[\"male\", \"female\"], showfliers=False, palette=palette_Emma)\n"
     ]
    },
    {
     "data": {
      "image/png": "[encoded data removed]",
      "text/plain": [
       "<Figure size 640x480 with 1 Axes>"
      ]
     },
     "metadata": {},
     "output_type": "display_data"
    },
    {
     "name": "stdout",
     "output_type": "stream",
     "text": [
      "Summary Statistics of PageRank by Gender (Engineering)\n",
      "            count          mean           std           min           25%  \\\n",
      "Gender                                                                      \n",
      "female   692960.0  9.226730e-08  2.475192e-07  4.068320e-08  4.068320e-08   \n",
      "male    4299465.0  1.329392e-07  4.383190e-07  4.068320e-08  4.068320e-08   \n",
      "\n",
      "                 50%           75%       max  \n",
      "Gender                                        \n",
      "female  4.654082e-08  7.420728e-08  0.000034  \n",
      "male    5.470069e-08  1.024601e-07  0.000123  \n"
     ]
    }
   ],
   "source": [
    "import pandas as pd\n",
    "import seaborn as sns\n",
    "import matplotlib.pyplot as plt\n",
    "\n",
    "df = pd.read_csv(\"Engineering_pagerank.csv\")\n",
    "\n",
    "df_filtered = df[df[\"PageRank\"] > 1e-6]\n",
    "df_filtered = df_filtered[df_filtered[\"Gender\"] != \"unknown\"]\n",
    "\n",
    "\n",
    "palette_Emma = {\n",
    "    \"male\": \"royalblue\",\n",
    "    \"female\": \"hotpink\"\n",
    "}\n",
    "\n",
    "\n",
    "sns.boxplot(data=df_filtered, x=\"Gender\", y=\"PageRank\", order=[\"male\", \"female\"], showfliers=False, palette=palette_Emma)\n",
    "plt.yscale('log')\n",
    "plt.title(\"(Engineering) PageRank Boxplot by Gender\")\n",
    "plt.show()\n",
    "\n",
    "#print(df.groupby(\"Gender\")[\"PageRank\"].describe())\n",
    "print(\"Summary Statistics of PageRank by Gender (Engineering)\")\n",
    "print(\n",
    "    df[df[\"Gender\"].isin([\"male\", \"female\"])]\n",
    "    .groupby(\"Gender\")[\"PageRank\"]\n",
    "    .describe()\n",
    ")"
   ]
  },
  {
   "cell_type": "code",
   "execution_count": 1,
   "id": "d7b2f786",
   "metadata": {},
   "outputs": [
    {
     "ename": "NameError",
     "evalue": "name 'df' is not defined",
     "output_type": "error",
     "traceback": [
      "\u001b[0;31m---------------------------------------------------------------------------\u001b[0m",
      "\u001b[0;31mNameError\u001b[0m                                 Traceback (most recent call last)",
      "Cell \u001b[0;32mIn[1], line 3\u001b[0m\n\u001b[1;32m      1\u001b[0m \u001b[38;5;28;01mfrom\u001b[39;00m\u001b[38;5;250m \u001b[39m\u001b[38;5;21;01mscipy\u001b[39;00m\u001b[38;5;21;01m.\u001b[39;00m\u001b[38;5;21;01mstats\u001b[39;00m\u001b[38;5;250m \u001b[39m\u001b[38;5;28;01mimport\u001b[39;00m mannwhitneyu\n\u001b[0;32m----> 3\u001b[0m male \u001b[38;5;241m=\u001b[39m \u001b[43mdf\u001b[49m[df[\u001b[38;5;124m\"\u001b[39m\u001b[38;5;124mGender\u001b[39m\u001b[38;5;124m\"\u001b[39m] \u001b[38;5;241m==\u001b[39m \u001b[38;5;124m\"\u001b[39m\u001b[38;5;124mmale\u001b[39m\u001b[38;5;124m\"\u001b[39m][\u001b[38;5;124m\"\u001b[39m\u001b[38;5;124mPageRank\u001b[39m\u001b[38;5;124m\"\u001b[39m]\n\u001b[1;32m      4\u001b[0m female \u001b[38;5;241m=\u001b[39m df[df[\u001b[38;5;124m\"\u001b[39m\u001b[38;5;124mGender\u001b[39m\u001b[38;5;124m\"\u001b[39m] \u001b[38;5;241m==\u001b[39m \u001b[38;5;124m\"\u001b[39m\u001b[38;5;124mfemale\u001b[39m\u001b[38;5;124m\"\u001b[39m][\u001b[38;5;124m\"\u001b[39m\u001b[38;5;124mPageRank\u001b[39m\u001b[38;5;124m\"\u001b[39m]\n\u001b[1;32m      6\u001b[0m stat, p \u001b[38;5;241m=\u001b[39m mannwhitneyu(male, female, alternative\u001b[38;5;241m=\u001b[39m\u001b[38;5;124m\"\u001b[39m\u001b[38;5;124mtwo-sided\u001b[39m\u001b[38;5;124m\"\u001b[39m)\n",
      "\u001b[0;31mNameError\u001b[0m: name 'df' is not defined"
     ]
    }
   ],
   "source": [
    "from scipy.stats import mannwhitneyu\n",
    "\n",
    "male = df[df[\"Gender\"] == \"male\"][\"PageRank\"]\n",
    "female = df[df[\"Gender\"] == \"female\"][\"PageRank\"]\n",
    "\n",
    "stat, p = mannwhitneyu(male, female, alternative=\"two-sided\")\n",
    "print(f\"Mann-Whitney U test: U={stat}, p={p}\")"
   ]
  },
  {
   "cell_type": "code",
   "execution_count": 5,
   "id": "ced1b66d",
   "metadata": {},
   "outputs": [
    {
     "name": "stdout",
     "output_type": "stream",
     "text": [
      "           AuthorId      PageRank   Gender\n",
      "7        2083469443  2.372733e-07     male\n",
      "9        2161372213  4.634644e-07     male\n",
      "10       2158647710  8.486058e-07     male\n",
      "11       2111909734  1.047833e-06     male\n",
      "12       2140265066  9.940068e-07     male\n",
      "...             ...           ...      ...\n",
      "7920889  2577533860  1.096344e-06     male\n",
      "7921109  3097974843  5.589894e-07  unknown\n",
      "7921282  2146654645  2.776115e-07     male\n",
      "7921466  2612031796  3.153565e-07     male\n",
      "7921554  2223060845  2.712214e-07     male\n",
      "\n",
      "[792163 rows x 3 columns]\n",
      "Gender\n",
      "male       0.574685\n",
      "unknown    0.374056\n",
      "female     0.051260\n",
      "Name: proportion, dtype: float64\n"
     ]
    }
   ],
   "source": [
    "top_10_percent = df[df[\"PageRank\"] > df[\"PageRank\"].quantile(0.9)]\n",
    "top_gender_dist = top_10_percent[\"Gender\"].value_counts(normalize=True)\n",
    "print(top_10_percent)\n",
    "print(top_gender_dist)\n"
   ]
  },
  {
   "cell_type": "code",
   "execution_count": 6,
   "id": "d92213fc",
   "metadata": {},
   "outputs": [
    {
     "name": "stdout",
     "output_type": "stream",
     "text": [
      "Gender\n",
      "male       0.542751\n",
      "unknown    0.369772\n",
      "female     0.087477\n",
      "Name: proportion, dtype: float64\n"
     ]
    }
   ],
   "source": [
    "overall_dist = df[\"Gender\"].value_counts(normalize=True)\n",
    "print(overall_dist)"
   ]
  },
  {
   "cell_type": "code",
   "execution_count": null,
   "id": "93ce97af",
   "metadata": {},
   "outputs": [],
   "source": [
    "import numpy as np\n",
    "\n",
    "def gini(array):\n",
    "    \"\"\"Compute Gini coefficient of a numpy array.\"\"\"\n",
    "    array = np.sort(array)\n",
    "    n = len(array)\n",
    "    cumulative = np.cumsum(array, dtype=float)\n",
    "    relative_mean = array.mean()\n",
    "    gini_index = (2 * np.sum((np.arange(1, n + 1) * array))) / (n * np.sum(array)) - (n + 1) / n\n",
    "    return gini_index\n",
    "\n",
    "import pandas as pd\n",
    "for gender in df[\"Gender\"].unique():\n",
    "    group = df[df[\"Gender\"] == gender]\n",
    "    gini_score = gini(group[\"PageRank\"].values)\n",
    "    print(f\"Gini coefficient for {gender}(PageRank): {gini_score:.4f}\")\n",
    "\n",
    "overall_gini = gini(df[\"PageRank\"].values)\n",
    "print(f\"Overall Gini coefficient (PageRank): {overall_gini:.4f}\")"
   ]
  },
  {
   "cell_type": "code",
   "execution_count": 11,
   "id": "1f79bc2c",
   "metadata": {},
   "outputs": [
    {
     "name": "stdout",
     "output_type": "stream",
     "text": [
      "   Men_GenderRank  Men_OverallRank  Men_CitationCount  Women_GenderRank  \\\n",
      "0               1                2              19280                 1   \n",
      "1               2                3              46127                 2   \n",
      "2               3                4              28562                 3   \n",
      "3               4                5              11870                 4   \n",
      "4               5                6              14496                 5   \n",
      "5               6                7               7517                 6   \n",
      "6               7                8               4506                 7   \n",
      "7               8                9              39751                 8   \n",
      "8               9               10              18958                 9   \n",
      "9              10               11              56215                10   \n",
      "\n",
      "   Women_OverallRank  Women_CitationCount  Unknown_GenderRank  \\\n",
      "0                 76                 1412                   1   \n",
      "1                137                26420                   2   \n",
      "2                164                 9036                   3   \n",
      "3                174                 9529                   4   \n",
      "4                181                  589                   5   \n",
      "5                190                 5617                   6   \n",
      "6                207                 4064                   7   \n",
      "7                228                27857                   8   \n",
      "8                236                 3576                   9   \n",
      "9                254                 1503                  10   \n",
      "\n",
      "   Unknown_OverallRank  Unknown_CitationCount  \n",
      "0                    1                   1810  \n",
      "1                   17                    216  \n",
      "2                   22                  24374  \n",
      "3                   25                  30240  \n",
      "4                   33                   1299  \n",
      "5                   43                   3129  \n",
      "6                   44                  13933  \n",
      "7                   57                  12634  \n",
      "8                   59                   8543  \n",
      "9                   60                  10647  \n"
     ]
    }
   ],
   "source": [
    "import pandas as pd\n",
    "\n",
    "# === Load data ===\n",
    "pagerank_df = pd.read_csv(\"Engineering_pagerank.csv\")\n",
    "df[\"PageRank\"] = df[\"PageRank\"] * 1_000_000  # for parts-per-million scale\n",
    "\n",
    "citations_df = pd.read_csv(\"Engineering_citation_count.csv\")\n",
    "\n",
    "# === Merge citation counts ===\n",
    "df = pagerank_df.merge(\n",
    "    citations_df[[\"AuthorId\", \"CitationCount\"]],\n",
    "    on=\"AuthorId\",\n",
    "    how=\"left\"\n",
    ")\n",
    "\n",
    "df[\"CitationCount\"] = df[\"CitationCount\"].fillna(0).astype(int)\n",
    "\n",
    "# === Compute overall rank based on PageRank ===\n",
    "df[\"OverallRank\"] = df[\"PageRank\"].rank(method=\"min\", ascending=False).astype(int)\n",
    "\n",
    "# === Compute gender-specific ranks ===\n",
    "df[\"GenderRank\"] = df.groupby(\"Gender\")[\"PageRank\"]\\\n",
    "    .rank(method=\"min\", ascending=False).astype(int)\n",
    "\n",
    "# === Get top 10 men and top 10 women ===\n",
    "men = df[df[\"Gender\"] == \"male\"].nsmallest(10, \"GenderRank\")\n",
    "women = df[df[\"Gender\"] == \"female\"].nsmallest(10, \"GenderRank\")\n",
    "unknown = df[df[\"Gender\"] == \"unknown\"].nsmallest(10, \"GenderRank\")\n",
    "\n",
    "# === Prepare final output ===\n",
    "men_cols = men[[\"GenderRank\", \"OverallRank\", \"CitationCount\"]].reset_index(drop=True)\n",
    "women_cols = women[[\"GenderRank\", \"OverallRank\", \"CitationCount\"]].reset_index(drop=True)\n",
    "unknown_cols = unknown[[\"GenderRank\", \"OverallRank\", \"CitationCount\"]].reset_index(drop=True)\n",
    "\n",
    "men_cols.columns = [\"Men_GenderRank\", \"Men_OverallRank\", \"Men_CitationCount\"]\n",
    "women_cols.columns = [\"Women_GenderRank\", \"Women_OverallRank\", \"Women_CitationCount\"]\n",
    "unknown_cols.columns = [\"Unknown_GenderRank\", \"Unknown_OverallRank\", \"Unknown_CitationCount\"]\n",
    "\n",
    "# === Combine side-by-side ===\n",
    "final_df = pd.concat([men_cols, women_cols, unknown_cols], axis=1)\n",
    "\n",
    "# === Save and display ===\n",
    "final_df.to_csv(\"top_10_gender_comparison_engineering.csv\", index=False)\n",
    "print(final_df)\n"
   ]
  },
  {
   "cell_type": "code",
   "execution_count": null,
   "id": "94568fd8",
   "metadata": {},
   "outputs": [],
   "source": []
  }
 ],
 "metadata": {
  "kernelspec": {
   "display_name": "Python (myenv)",
   "language": "python",
   "name": "myenv"
  },
  "language_info": {
   "codemirror_mode": {
    "name": "ipython",
    "version": 3
   },
   "file_extension": ".py",
   "mimetype": "text/x-python",
   "name": "python",
   "nbconvert_exporter": "python",
   "pygments_lexer": "ipython3",
   "version": "3.10.13"
  }
 },
 "nbformat": 4,
 "nbformat_minor": 5
}
