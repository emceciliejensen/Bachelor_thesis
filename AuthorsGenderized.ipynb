{
 "cells": [
  {
   "cell_type": "code",
   "execution_count": null,
   "id": "64d3a6d5",
   "metadata": {},
   "outputs": [],
   "source": [
    "df_gender = pd.read_csv(\"AuthorsGenderized.csv\")[[\"AuthorId\", \"Gender\", \"Genderized\"]]\n",
    "df_gender = df_gender[df_gender[\"Genderized\"].isin([0, 1])]"
   ]
  },
  {
   "cell_type": "code",
   "execution_count": null,
   "id": "13bc5ed9",
   "metadata": {},
   "outputs": [],
   "source": [
    "import sys\n",
    "print(sys.executable)\n"
   ]
  },
  {
   "cell_type": "code",
   "execution_count": null,
   "id": "f90d9d2c",
   "metadata": {},
   "outputs": [],
   "source": [
    "import os\n",
    "print(os.environ.get(\"JAVA_HOME\"))\n"
   ]
  },
  {
   "cell_type": "code",
   "execution_count": null,
   "id": "10916555",
   "metadata": {},
   "outputs": [],
   "source": [
    "from pyspark.sql import SparkSession\n",
    "\n",
    "spark = SparkSession.builder \\\n",
    "    .appName(\"Read Partitioned CSV\") \\\n",
    "    .getOrCreate()\n",
    "\n",
    "spark.version\n"
   ]
  },
  {
   "cell_type": "code",
   "execution_count": null,
   "id": "7564f20c",
   "metadata": {},
   "outputs": [],
   "source": [
    "df = spark.read.option(\"header\", \"true\").option(\"inferSchema\", \"true\") \\\n",
    "    .csv(\"/home/emcj/data/MAG/AuthorsGenderized.csv\")\n",
    "\n",
    "df.show(5)\n"
   ]
  },
  {
   "cell_type": "code",
   "execution_count": null,
   "id": "3d82596d",
   "metadata": {},
   "outputs": [],
   "source": [
    "conda activate myenv\n",
    "python -m ipykernel install --user --name=myenv --display-name \"Python (myenv)\"\n"
   ]
  },
  {
   "cell_type": "code",
   "execution_count": null,
   "id": "e75023b7",
   "metadata": {},
   "outputs": [],
   "source": [
    "!pip install pyspark\n"
   ]
  },
  {
   "cell_type": "code",
   "execution_count": null,
   "id": "644a28f0",
   "metadata": {},
   "outputs": [],
   "source": [
    "from pyspark.sql import SparkSession\n",
    "\n",
    "spark = SparkSession.builder \\\n",
    "    .appName(\"Read Partitioned CSV\") \\\n",
    "    .config(\"spark.executor.extraJavaOptions\", \"--add-opens java.base/java.security=ALL-UNNAMED\") \\\n",
    "    .config(\"spark.driver.extraJavaOptions\", \"--add-opens java.base/java.security=ALL-UNNAMED\") \\\n",
    "    .getOrCreate()\n"
   ]
  },
  {
   "cell_type": "code",
   "execution_count": null,
   "id": "814e65ae",
   "metadata": {},
   "outputs": [],
   "source": [
    "from pyspark.sql import SparkSession\n",
    "\n",
    "spark = SparkSession.builder \\\n",
    "    .appName(\"Read Partitioned CSV\") \\\n",
    "    .getOrCreate()\n",
    "\n",
   ]
  },
  {
   "cell_type": "code",
   "execution_count": null,
   "id": "0e3a1e78",
   "metadata": {},
   "outputs": [],
   "source": [
    "import pandas as pd\n",
    "\n",
    "df = pd.read_csv(\"/home/emcj/data/MAG/AuthorsGenderized_merged.csv\", on_bad_lines='skip', nrows=2)\n",
    "\n",
    "\n",
    "df.head(2)"
   ]
  },
  {
   "cell_type": "code",
   "execution_count": null,
   "id": "32f9334e",
   "metadata": {},
   "outputs": [],
   "source": [
    "import pandas as pd\n",
    "\n",
    "df_pap = pd.read_csv(\"PaperReferences.csv\", nrows=5)\n",
    "df_pap.head(3)"
   ]
  },
  {
   "cell_type": "code",
   "execution_count": null,
   "id": "c81eea31",
   "metadata": {},
   "outputs": [],
   "source": [
    "import pandas as pd\n",
    "\n",
    "df_paper_ref = pd.read_csv(\"PaperReferences.csv\", nrows=2)\n",
    "df_paper_ref.head()\n"
   ]
  },
  {
   "cell_type": "code",
   "execution_count": 18,
   "id": "758c6b55",
   "metadata": {},
   "outputs": [
    {
     "data": {
      "text/html": [
       "<div>\n",
       "<style scoped>\n",
       "    .dataframe tbody tr th:only-of-type {\n",
       "        vertical-align: middle;\n",
       "    }\n",
       "\n",
       "    .dataframe tbody tr th {\n",
       "        vertical-align: top;\n",
       "    }\n",
       "\n",
       "    .dataframe thead th {\n",
       "        text-align: right;\n",
       "    }\n",
       "</style>\n",
       "<table border=\"1\" class=\"dataframe\">\n",
       "  <thead>\n",
       "    <tr style=\"text-align: right;\">\n",
       "      <th></th>\n",
       "      <th>SourceAuthorId</th>\n",
       "      <th>SourceGender</th>\n",
       "      <th>SourceGenderized</th>\n",
       "      <th>TargetAuthorId</th>\n",
       "      <th>TargetGender</th>\n",
       "      <th>TargetGenderized</th>\n",
       "    </tr>\n",
       "  </thead>\n",
       "  <tbody>\n",
       "    <tr>\n",
       "      <th>0</th>\n",
       "      <td>2654711026</td>\n",
       "      <td>NaN</td>\n",
       "      <td>-2</td>\n",
       "      <td>2678348436</td>\n",
       "      <td>NaN</td>\n",
       "      <td>-2</td>\n",
       "    </tr>\n",
       "    <tr>\n",
       "      <th>1</th>\n",
       "      <td>2654711026</td>\n",
       "      <td>NaN</td>\n",
       "      <td>-2</td>\n",
       "      <td>2708090778</td>\n",
       "      <td>NaN</td>\n",
       "      <td>-2</td>\n",
       "    </tr>\n",
       "    <tr>\n",
       "      <th>2</th>\n",
       "      <td>2722969043</td>\n",
       "      <td>NaN</td>\n",
       "      <td>-2</td>\n",
       "      <td>2678348436</td>\n",
       "      <td>NaN</td>\n",
       "      <td>-2</td>\n",
       "    </tr>\n",
       "    <tr>\n",
       "      <th>3</th>\n",
       "      <td>2722969043</td>\n",
       "      <td>NaN</td>\n",
       "      <td>-2</td>\n",
       "      <td>2708090778</td>\n",
       "      <td>NaN</td>\n",
       "      <td>-2</td>\n",
       "    </tr>\n",
       "    <tr>\n",
       "      <th>4</th>\n",
       "      <td>2654711026</td>\n",
       "      <td>NaN</td>\n",
       "      <td>-2</td>\n",
       "      <td>2421318658</td>\n",
       "      <td>male</td>\n",
       "      <td>0</td>\n",
       "    </tr>\n",
       "    <tr>\n",
       "      <th>...</th>\n",
       "      <td>...</td>\n",
       "      <td>...</td>\n",
       "      <td>...</td>\n",
       "      <td>...</td>\n",
       "      <td>...</td>\n",
       "      <td>...</td>\n",
       "    </tr>\n",
       "    <tr>\n",
       "      <th>95</th>\n",
       "      <td>2236731196</td>\n",
       "      <td>female</td>\n",
       "      <td>1</td>\n",
       "      <td>2132156010</td>\n",
       "      <td>male</td>\n",
       "      <td>0</td>\n",
       "    </tr>\n",
       "    <tr>\n",
       "      <th>96</th>\n",
       "      <td>2236731196</td>\n",
       "      <td>female</td>\n",
       "      <td>1</td>\n",
       "      <td>2387010071</td>\n",
       "      <td>male</td>\n",
       "      <td>0</td>\n",
       "    </tr>\n",
       "    <tr>\n",
       "      <th>97</th>\n",
       "      <td>2088505836</td>\n",
       "      <td>male</td>\n",
       "      <td>0</td>\n",
       "      <td>1950516342</td>\n",
       "      <td>female</td>\n",
       "      <td>-1</td>\n",
       "    </tr>\n",
       "    <tr>\n",
       "      <th>98</th>\n",
       "      <td>2088505836</td>\n",
       "      <td>male</td>\n",
       "      <td>0</td>\n",
       "      <td>1991183725</td>\n",
       "      <td>male</td>\n",
       "      <td>0</td>\n",
       "    </tr>\n",
       "    <tr>\n",
       "      <th>99</th>\n",
       "      <td>2088505836</td>\n",
       "      <td>male</td>\n",
       "      <td>0</td>\n",
       "      <td>2004244722</td>\n",
       "      <td>female</td>\n",
       "      <td>1</td>\n",
       "    </tr>\n",
       "  </tbody>\n",
       "</table>\n",
       "<p>100 rows × 6 columns</p>\n",
       "</div>"
      ],
      "text/plain": [
       "    SourceAuthorId SourceGender  SourceGenderized  TargetAuthorId  \\\n",
       "0       2654711026          NaN                -2      2678348436   \n",
       "1       2654711026          NaN                -2      2708090778   \n",
       "2       2722969043          NaN                -2      2678348436   \n",
       "3       2722969043          NaN                -2      2708090778   \n",
       "4       2654711026          NaN                -2      2421318658   \n",
       "..             ...          ...               ...             ...   \n",
       "95      2236731196       female                 1      2132156010   \n",
       "96      2236731196       female                 1      2387010071   \n",
       "97      2088505836         male                 0      1950516342   \n",
       "98      2088505836         male                 0      1991183725   \n",
       "99      2088505836         male                 0      2004244722   \n",
       "\n",
       "   TargetGender  TargetGenderized  \n",
       "0           NaN                -2  \n",
       "1           NaN                -2  \n",
       "2           NaN                -2  \n",
       "3           NaN                -2  \n",
       "4          male                 0  \n",
       "..          ...               ...  \n",
       "95         male                 0  \n",
       "96         male                 0  \n",
       "97       female                -1  \n",
       "98         male                 0  \n",
       "99       female                 1  \n",
       "\n",
       "[100 rows x 6 columns]"
      ]
     },
     "execution_count": 18,
     "metadata": {},
     "output_type": "execute_result"
    }
   ],
   "source": [
    "import pandas as pd\n",
    "\n",
    "df_med = pd.read_csv(\"Psychology_Author_Citations_Genderized.csv\", nrows=100)\n",
    "df_med.head(100)\n",
    "#print(len(df_med))"
   ]
  },
  {
   "cell_type": "code",
   "execution_count": null,
   "id": "0fe94b3d",
   "metadata": {},
   "outputs": [],
   "source": [
    "    "
   ]
  }
 ],
 "metadata": {
  "kernelspec": {
   "display_name": "Python (myenv)",
   "language": "python",
   "name": "myenv"
  },
  "language_info": {
   "codemirror_mode": {
    "name": "ipython",
    "version": 3
   },
   "file_extension": ".py",
   "mimetype": "text/x-python",
   "name": "python",
   "nbconvert_exporter": "python",
   "pygments_lexer": "ipython3",
   "version": "3.10.13"
  }
 },
 "nbformat": 4,
 "nbformat_minor": 5
}
