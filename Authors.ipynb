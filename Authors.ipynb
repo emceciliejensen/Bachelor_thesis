{
 "cells": [
  {
   "cell_type": "code",
   "execution_count": null,
   "id": "fb5b4688-0e97-46d0-825c-d5c0bb96f013",
   "metadata": {},
   "outputs": [],
   "source": [
    "import pandas as pd\n",
    "\n",
    "df = pd.read_csv('Authors.txt', delimiter='\\t')  # Change delimiter as needed. Why did you choose this delimiter??\n",
    "df.to_csv('Authors.csv', index=False)\n"
   ]
  },
  {
   "cell_type": "code",
   "execution_count": null,
   "id": "5810702f-2f80-4a61-97fa-b2c5529e8297",
   "metadata": {},
   "outputs": [],
   "source": [
    "import pandas as pd\n",
    "\n",
    "# Try reading only the first 100 rows to inspect the structure\n",
    "df_preview = pd.read_csv(\"Authors.txt\", delimiter=\"\\t\", nrows=100)\n",
    "print(df_preview.head())\n"
   ]
  },
  {
   "cell_type": "code",
   "execution_count": null,
   "id": "8b0165a8-354e-4a80-89f8-aac322245403",
   "metadata": {},
   "outputs": [],
   "source": [
    "# Stop reading before the second block starts\n",
    "df = pd.read_csv(\"Authors.txt\", delimiter=\"\\t\", nrows=100)  # or use nrows=actual number of author rows\n",
    "df.to_csv(\"Authors.csv\", index=False)\n"
   ]
  },
  {
   "cell_type": "code",
   "execution_count": 4,
   "id": "ddcddf68-d039-47a2-b344-554567fec5eb",
   "metadata": {},
   "outputs": [
    {
     "name": "stdout",
     "output_type": "stream",
     "text": [
      "274361384\n"
     ]
    }
   ],
   "source": [
    "import pandas as pd\n",
    "\n",
    "df_authors = pd.read_csv(\"Authors.csv\")\n",
    "print(len(df_authors))"
   ]
  },
  {
   "cell_type": "code",
   "execution_count": null,
   "id": "bbc1a9a6",
   "metadata": {},
   "outputs": [],
   "source": [
    "import pandas as pd\n",
    "\n",
    "df_papers = pd.read_csv(\"PaperAuthorAffiliations.csv\")\n",
    "#print(df_papers.head()\n",
    "#print(len(df_papers))\n",
    "unique_authors = df_papers['AuthorId'].unique()\n",
    "unique_papers = df_papers['PaperId'].unique()\n",
    "print(sum(unique_authors))\n",
    "print(sum(unique_papers))"
   ]
  },
  {
   "cell_type": "code",
   "execution_count": null,
   "id": "2e3edb85-0645-439f-9b50-669ad3eef196",
   "metadata": {},
   "outputs": [],
   "source": [
    "df_authors = pd.read_csv(\"Authors.csv\")\n",
    "df_authors.head()"
   ]
  },
  {
   "cell_type": "code",
   "execution_count": null,
   "id": "bd344d31-3201-4da2-9310-399de9dfdcd6",
   "metadata": {},
   "outputs": [],
   "source": [
    "columns = [\n",
    "    'AuthorId', 'Rank', 'NormalizedName', 'DisplayName',\n",
    "    'LastKnownAffiliationId', 'PaperCount',\n",
    "    'PaperFamilyCount', 'CitationCount', 'CreatedDate'\n",
    "]\n",
    "\n",
    "import pandas as pd\n",
    "\n",
    "# Read the TXT file and manually assign column names\n",
    "df = pd.read_csv(\n",
    "    \"Authors.txt\",\n",
    "    delimiter=\"\\t\",\n",
    "    names=columns,     # Apply your column names\n",
    "    header=None,       # Prevent pandas from treating first row as header\n",
    "    dtype=str,         # Read all data as string to avoid type conversion errors\n",
    "    on_bad_lines='skip'  # Skip malformed lines that don't match the expected format\n",
    ")\n",
    "\n",
    "# Optional: Convert CreatedDate to datetime (after loading)\n",
    "#!!This converts the CreatedDate column from a string into a proper datetime object in pandas.!!\n",
    "df['CreatedDate'] = pd.to_datetime(df['CreatedDate'], errors='coerce')\n"
   ]
  },
  {
   "cell_type": "code",
   "execution_count": null,
   "id": "983bdb01-a042-427a-a03d-2c6d4edf26f6",
   "metadata": {},
   "outputs": [],
   "source": [
    "df.to_csv(\"Authors2.0.csv\", index=False)\n",
    "##has been created - and rename to Authors.csv"
   ]
  },
  {
   "cell_type": "code",
   "execution_count": null,
   "id": "fbf0b3b4-9589-4961-a4e8-a58720a8fe82",
   "metadata": {},
   "outputs": [],
   "source": [
    "import pandas as pd\n",
    "df_authors = pd.read_csv(\"Authors.csv\", nrows=5)\n",
    "df_authors.head()"
   ]
  },
  {
   "cell_type": "code",
   "execution_count": null,
   "id": "082411e8-d786-4e00-846e-3fce37f50745",
   "metadata": {},
   "outputs": [],
   "source": [
    "unique_created_dates = df_authors.loc[:,\"CreatedDate\"].unique()\n",
    "print(f\"\\nTotal unique dates: {len(unique_created_dates)}\")"
   ]
  },
  {
   "cell_type": "code",
   "execution_count": null,
   "id": "32480cd5",
   "metadata": {},
   "outputs": [],
   "source": [
    "import pandas as pd\n",
    "\n",
    "def extract_author_countries(mag_dir, destination):\n",
    "    \"\"\"\n",
    "    Computes country per author using most frequent country of affiliation.\n",
    "    \n",
    "    Parameters:\n",
    "        mag_dir=\"/home/emcj/data/MAG/\",\n",
    "        destination=\"/home/emcj/data/MAG/AuthorCountries.csv\"\n",
    "    \"\"\"\n",
    "\n",
    "    # Load needed CSVs\n",
    "    paa = pd.read_csv(f\"{mag_dir}/PaperAuthorAffiliations.csv\", usecols=[\"AuthorId\", \"AffiliationId\"])\n",
    "    aff = pd.read_csv(f\"{mag_dir}/Affiliations.csv\", usecols=[\"AffiliationId\", \"Iso3166Code\"])\n",
    "    authors = pd.read_csv(f\"{mag_dir}/Authors.csv\", usecols=[\"AuthorId\", \"DisplayName\"])\n",
    "\n",
    "    # Merge to get country info\n",
    "    merged = paa.merge(aff, on=\"AffiliationId\", how=\"inner\")\n",
    "\n",
    "    # Count how many times each Author appears per country\n",
    "    country_counts = (\n",
    "        merged.groupby([\"AuthorId\", \"Iso3166Code\"])\n",
    "        .size()\n",
    "        .reset_index(name=\"num_authorships\")\n",
    "    )\n",
    "\n",
    "    # Get most frequent country per author (break ties arbitrarily)\n",
    "    top_country = (\n",
    "        country_counts.sort_values([\"AuthorId\", \"num_authorships\"], ascending=[True, False])\n",
    "        .drop_duplicates(\"AuthorId\")\n",
    "        .rename(columns={\"Iso3166Code\": \"Country\"})\n",
    "    )\n",
    "\n",
    "    # Merge back with authors\n",
    "    author_country = authors.merge(top_country[[\"AuthorId\", \"Country\"]], on=\"AuthorId\", how=\"left\")\n",
    "\n",
    "    # Save to file\n",
    "    author_country.to_csv(destination, sep=\"\\t\", index=False, encoding=\"utf-8\")\n",
    "    print(f\"Saved AuthorCountries to: {destination}\")\n",
    "\n",
    "    "
   ]
  },
  {
   "cell_type": "code",
   "execution_count": null,
   "id": "34fabda1",
   "metadata": {},
   "outputs": [],
   "source": [
    "import pandas as pd\n",
    "df_pauf = pd.read_csv(\"Affiliations.csv\", nrows=1)\n",
    "df_pauf.head()"
   ]
  },
  {
   "cell_type": "code",
   "execution_count": null,
   "id": "e7dce3d9",
   "metadata": {},
   "outputs": [],
   "source": [
    "import pandas as pd\n",
    "\n",
    "# Load the file\n",
    "df = pd.read_csv(\"Affiliations.csv\")\n",
    "\n",
    "# Rename the columns (update all as needed)\n",
    "df.rename(columns={\n",
    "    \"AffiliationId:long\": \"AffiliationId\",\n",
    "    \"Rank:uint\": \"Rank\",\n",
    "    \"NormalizedName:string\": \"NormalizedName\",\n",
    "    \"DisplayName:string\": \"DisplayName\",\n",
    "    \"GridId:string\": \"GridId\",\n",
    "    \"OfficialPage:string\": \"OfficialPage\",\n",
    "    \"WikiPage:string\": \"WikiPage\",\n",
    "    \"PaperCount:long\": \"PaperCount\",\n",
    "    \"PaperFamilyCount:long\": \"PaperFamilyCount\",\n",
    "    \"CitationCount:long\": \"CitationCount\",\n",
    "    \"Iso3166Code:string\": \"Iso3166Code\",\n",
    "    \"Latitude:float?\": \"Latitude\",\n",
    "    \"Longitude:float?\": \"Longitude\",\n",
    "    \"CreatedDate:DateTime\": \"CreatedDate\"\n",
    "}, inplace=True)\n",
    "\n",
    "df.to_csv(\"Affiliations.csv\", index=False)\n"
   ]
  },
  {
   "cell_type": "code",
   "execution_count": null,
   "id": "1a91ebed",
   "metadata": {},
   "outputs": [],
   "source": [
    "df_pauf.rename(columns={\n",
    "    \"AffiliationId:long\": \"AffiliationId\",\n",
    "    \"Rank:uint\": \"Rank\",\n",
    "    \"NormalizedName:string\": \"NormalizedName\",\n",
    "    \"DisplayName:string\": \"DisplayName\",\n",
    "    \"GridId:string\": \"GridId\",\n",
    "    \"OfficialPage:string\": \"OfficialPage\",\n",
    "    \"WikiPage:string\": \"WikiPage\",\n",
    "    \"PaperCount:long\": \"PaperCount\",\n",
    "    \"PaperFamilyCount:long\": \"PaperFamilyCount\",\n",
    "    \"CitationCount:long\": \"CitationCount\",\n",
    "    \"Iso3166Code:string\": \"Iso3166Code\",\n",
    "    \"Latitude:float?\": \"Latitude\",\n",
    "    \"Longitude:float?\": \"Longitude\",\n",
    "    \"CreatedDate:DateTime\": \"CreatedDate\"\n",
    "}, inplace=True)\n",
    "\n",
    "df_pauf.columns\n"
   ]
  },
  {
   "cell_type": "code",
   "execution_count": null,
   "id": "0224b944",
   "metadata": {},
   "outputs": [],
   "source": [
    "mag_dir = \"/home/emcj/data/MAG/\"\n",
    "destination = \"/home/emcj/data/MAG/AuthorCountries.csv\"\n",
    "\n",
    "extract_author_countries(mag_dir, destination)\n"
   ]
  },
  {
   "cell_type": "code",
   "execution_count": null,
   "id": "e6aba744",
   "metadata": {},
   "outputs": [],
   "source": [
    "import pandas as pd\n",
    "\n",
    "def assign_genders_to_authors(mag_dir, destination):\n",
    "    \"\"\"\n",
    "    Assign gender labels to authors using genderized first names.\n",
    "        \n",
    "    Parameters:\n",
    "        mag_dir=\"/home/emcj/data/MAG/\",\n",
    "        destination=\"/home/emcj/data/MAG/AuthorsGenderized.csv\"\n",
    "    Returns:\n",
    "        None\n",
    "    \"\"\"\n",
    "    \n",
    "    # Load MAG author data and genderized names\n",
    "    authors = pd.read_csv(f\"{mag_dir}/Authors.csv\", usecols=[\"AuthorId\", \"DisplayName\", \"LastKnownAffiliationId\"])\n",
    "    genderized = pd.read_csv(f\"{mag_dir}/GenderizedFirstnames.csv\")\n",
    "    \n",
    "    # Load countries if available via AuthorCountries or use dummy\n",
    "    try:\n",
    "        countries = pd.read_csv(f\"{mag_dir}/AuthorCountries.csv\")\n",
    "        authors = authors.merge(countries[[\"AuthorId\", \"Country\"]], on=\"AuthorId\", how=\"left\")\n",
    "    except FileNotFoundError:\n",
    "        authors[\"Country\"] = \"unknown\"\n",
    "\n",
    "    # Extract first name from DisplayName\n",
    "    authors[\"Firstname\"] = authors[\"DisplayName\"].str.split().str[0]\n",
    "    authors[\"Country\"] = authors[\"Country\"].fillna(\"unknown\")\n",
    "    genderized[\"Country\"] = genderized[\"Country\"].fillna(\"unknown\")\n",
    "\n",
    "    # Merge on Firstname and Country\n",
    "    merged = authors.merge(\n",
    "        genderized,\n",
    "        how=\"left\",\n",
    "        left_on=[\"Firstname\", \"Country\"],\n",
    "        right_on=[\"Firstname\", \"Country\"]\n",
    "    )\n",
    "\n",
    "    # Fill missing genderized scores\n",
    "    merged[\"genderized\"] = merged[\"genderized\"].fillna(-3)\n",
    "\n",
    "    # Select and reorder output columns\n",
    "    result = merged[[\"AuthorId\", \"DisplayName\", \"Country\", \"gender\", \"genderized\"]].sort_values(\n",
    "        by=[\"genderized\", \"AuthorId\"], ascending=[False, True]\n",
    "    )\n",
    "\n",
    "    # Write to destination as TSV\n",
    "    result.to_csv(destination, sep=\"\\t\", index=False, encoding=\"utf-8\")\n",
    "    print(f\"Saved to: {destination}\")\n"
   ]
  },
  {
   "cell_type": "code",
   "execution_count": null,
   "id": "11b57e1b",
   "metadata": {},
   "outputs": [],
   "source": [
    "mag_dir = \"/home/emcj/data/MAG/\"\n",
    "destination = \"/home/emcj/data/MAG/AuthorsGenderized.csv\"\n",
    "\n",
    "assign_genders_to_authors(mag_dir, destination)\n"
   ]
  },
  {
   "cell_type": "code",
   "execution_count": null,
   "id": "a298cd92",
   "metadata": {},
   "outputs": [],
   "source": [
    "import pandas as pd \n",
    "df_author_gender = pd.read_csv(\"AuthorsGenderized.csv\", sep=\"\\t\", nrows=5)\n",
    "df_author_gender.head()"
   ]
  },
  {
   "cell_type": "code",
   "execution_count": null,
   "id": "304d1546",
   "metadata": {},
   "outputs": [],
   "source": [
    "unique_author_gender = df_author_gender.loc[:,\"Gender\"].unique()\n",
    "print(f\"\\nTotal unique gender: {len(unique_author_gender)}\")\n",
    "unique_author_gender"
   ]
  },
  {
   "cell_type": "code",
   "execution_count": null,
   "id": "2a88d1f5",
   "metadata": {
    "scrolled": true
   },
   "outputs": [],
   "source": [
    "import pandas as pd \n",
    "df_author_countries = pd.read_csv(\"AuthorCountries.csv\", sep=\"\\t\", nrows=5)\n",
    "df_author_countries.head()"
   ]
  },
  {
   "cell_type": "code",
   "execution_count": null,
   "id": "bcc58af5",
   "metadata": {},
   "outputs": [],
   "source": [
    "import pandas as pd \n",
    "df_authors = pd.read_csv(\"Authors.csv\", nrows=5)\n",
    "df_authors.head()"
   ]
  },
  {
   "cell_type": "code",
   "execution_count": null,
   "id": "b313ba30",
   "metadata": {},
   "outputs": [],
   "source": [
    "import pandas as pd \n",
    "df_genderized_firsnames = pd.read_csv(\"GenderizedFirstnames.txt\", sep=\"\\t\", nrows=10000)\n",
    "df_genderized_firsnames"
   ]
  },
  {
   "cell_type": "code",
   "execution_count": null,
   "id": "465fb483",
   "metadata": {},
   "outputs": [],
   "source": [
    "import pandas as pd \n",
    "df_genderized_authors = pd.read_csv(\"AuthorsGenderized.csv\", sep=\"\\t\", nrows=10000)\n",
    "df_genderized_authors"
   ]
  },
  {
   "cell_type": "code",
   "execution_count": null,
   "id": "058f3ae7",
   "metadata": {},
   "outputs": [],
   "source": [
    "unique_gender_author = df_genderized_authors.loc[:,\"Country\"].unique()\n",
    "print(f\"\\nTotal unique country: {len(unique_gender_author)}\")\n",
    "unique_gender_author"
   ]
  },
  {
   "cell_type": "code",
   "execution_count": null,
   "id": "34d6942a",
   "metadata": {},
   "outputs": [],
   "source": [
    "unique_genderized_authors = df_genderized_authors.loc[:,\"Country\"].unique()\n",
    "print(f\"\\nTotal unique country: {len(unique_gender_author)}\")\n",
    "unique_gender_author"
   ]
  },
  {
   "cell_type": "code",
   "execution_count": null,
   "id": "0be05bdb",
   "metadata": {},
   "outputs": [],
   "source": [
    "import pandas as pd \n",
    "df_genderized_authors = pd.read_csv(\"Authors_Genderized_Full.csv\", sep='\\t')# error_bad_lines=False)\n",
    "df_genderized_authors.head(5)\n",
    "print(len(df_genderized_authors))"
   ]
  },
  {
   "cell_type": "code",
   "execution_count": null,
   "id": "b70c4d3a",
   "metadata": {},
   "outputs": [],
   "source": [
    "import pandas as pd\n",
    "with open(\"Authors_Genderized_Full.csv\") as f:\n",
    "    for i, line in enumerate(f):\n",
    "        if i == 32858:  # zero-indexed\n",
    "            print(line)\n",
    "            break"
   ]
  },
  {
   "cell_type": "code",
   "execution_count": null,
   "id": "12db8dc4",
   "metadata": {},
   "outputs": [],
   "source": [
    "#Giving column names to Authors_Genderized_Full.csv saving it as Authors_Genderized_Full_with_header.csv\n",
    "import pandas as pd\n",
    "\n",
    "col_names = ['AuthorId', 'DisplayName', 'Country', 'Gender', 'Genderized']\n",
    "df = pd.read_csv(\"Authors_Genderized_Full.csv\", sep='\\t', names=col_names, header=None)\n",
    "\n",
    "df.to_csv(\"Authors_Genderized_Full_with_headers.csv\", index=False)\n",
    "\n"
   ]
  },
  {
   "cell_type": "code",
   "execution_count": null,
   "id": "f391825f",
   "metadata": {},
   "outputs": [],
   "source": [
    "import pandas as pd \n",
    "\n",
    "df_author_cite = pd.read_csv(\"Psychology_Author_Citations.csv\")\n",
    "print(len(df_author_cite))\n"
   ]
  },
  {
   "cell_type": "code",
   "execution_count": 3,
   "id": "a0bacb85",
   "metadata": {},
   "outputs": [
    {
     "data": {
      "text/html": [
       "<div>\n",
       "<style scoped>\n",
       "    .dataframe tbody tr th:only-of-type {\n",
       "        vertical-align: middle;\n",
       "    }\n",
       "\n",
       "    .dataframe tbody tr th {\n",
       "        vertical-align: top;\n",
       "    }\n",
       "\n",
       "    .dataframe thead th {\n",
       "        text-align: right;\n",
       "    }\n",
       "</style>\n",
       "<table border=\"1\" class=\"dataframe\">\n",
       "  <thead>\n",
       "    <tr style=\"text-align: right;\">\n",
       "      <th></th>\n",
       "      <th>SourceAuthorId</th>\n",
       "      <th>SourceGender</th>\n",
       "      <th>SourceGenderized</th>\n",
       "      <th>TargetAuthorId</th>\n",
       "      <th>TargetGender</th>\n",
       "      <th>TargetGenderized</th>\n",
       "    </tr>\n",
       "  </thead>\n",
       "  <tbody>\n",
       "    <tr>\n",
       "      <th>0</th>\n",
       "      <td>2654711026</td>\n",
       "      <td>NaN</td>\n",
       "      <td>-2</td>\n",
       "      <td>2678348436</td>\n",
       "      <td>NaN</td>\n",
       "      <td>-2</td>\n",
       "    </tr>\n",
       "    <tr>\n",
       "      <th>1</th>\n",
       "      <td>2654711026</td>\n",
       "      <td>NaN</td>\n",
       "      <td>-2</td>\n",
       "      <td>2708090778</td>\n",
       "      <td>NaN</td>\n",
       "      <td>-2</td>\n",
       "    </tr>\n",
       "  </tbody>\n",
       "</table>\n",
       "</div>"
      ],
      "text/plain": [
       "   SourceAuthorId  SourceGender  SourceGenderized  TargetAuthorId  \\\n",
       "0      2654711026           NaN                -2      2678348436   \n",
       "1      2654711026           NaN                -2      2708090778   \n",
       "\n",
       "   TargetGender  TargetGenderized  \n",
       "0           NaN                -2  \n",
       "1           NaN                -2  "
      ]
     },
     "execution_count": 3,
     "metadata": {},
     "output_type": "execute_result"
    }
   ],
   "source": [
    "import pandas as pd\n",
    "\n",
    "df = pd.read_csv(\"Psychology_Author_Citations_Genderized.csv\", nrows=2)\n",
    "df.head()"
   ]
  },
  {
   "cell_type": "code",
   "execution_count": null,
   "id": "7dd5ffb1",
   "metadata": {},
   "outputs": [],
   "source": []
  }
 ],
 "metadata": {
  "kernelspec": {
   "display_name": "Python 3",
   "language": "python",
   "name": "python3"
  },
  "language_info": {
   "codemirror_mode": {
    "name": "ipython",
    "version": 3
   },
   "file_extension": ".py",
   "mimetype": "text/x-python",
   "name": "python",
   "nbconvert_exporter": "python",
   "pygments_lexer": "ipython3",
   "version": "3.6.8"
  }
 },
 "nbformat": 4,
 "nbformat_minor": 5
}
