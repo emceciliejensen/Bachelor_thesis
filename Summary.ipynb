{
 "cells": [
  {
   "cell_type": "code",
   "execution_count": 2,
   "id": "9dc24419",
   "metadata": {},
   "outputs": [
    {
     "name": "stderr",
     "output_type": "stream",
     "text": [
      "/tmp/ipykernel_417424/4008728292.py:2: DtypeWarning: Columns (1) have mixed types. Specify dtype option on import or set low_memory=False.\n",
      "  df = pd.read_csv(\"Physics_Author_Citations_random_sample_Genderized.csv\")#, nrows=2)\n"
     ]
    },
    {
     "data": {
      "text/plain": [
       "TargetGender\n",
       "female     29035\n",
       "male      210350\n",
       "Name: TargetAuthorId, dtype: int64"
      ]
     },
     "execution_count": 2,
     "metadata": {},
     "output_type": "execute_result"
    }
   ],
   "source": [
    "import pandas as pd\n",
    "df = pd.read_csv(\"Physics_Author_Citations_random_sample_Genderized.csv\")#, nrows=2)\n",
    "#df.head()\n",
    "df[\"SourceAuthorId\"].nunique()\n",
    "df[\"TargetAuthorId\"].nunique()\n",
    "\n",
    "df.groupby(\"SourceGender\")[\"SourceAuthorId\"].nunique()\n",
    "df.groupby(\"TargetGender\")[\"TargetAuthorId\"].nunique()\n"
   ]
  },
  {
   "cell_type": "code",
   "execution_count": 3,
   "id": "2c5cdc5d",
   "metadata": {},
   "outputs": [
    {
     "data": {
      "text/plain": [
       "SourceAuthorId        int64\n",
       "SourceGender         object\n",
       "SourceGenderized    float64\n",
       "TargetAuthorId        int64\n",
       "TargetGender         object\n",
       "TargetGenderized    float64\n",
       "dtype: object"
      ]
     },
     "execution_count": 3,
     "metadata": {},
     "output_type": "execute_result"
    }
   ],
   "source": [
    "df.dtypes\n"
   ]
  },
  {
   "cell_type": "code",
   "execution_count": null,
   "id": "b953429b",
   "metadata": {},
   "outputs": [],
   "source": []
  }
 ],
 "metadata": {
  "kernelspec": {
   "display_name": "Python (myenv)",
   "language": "python",
   "name": "myenv"
  },
  "language_info": {
   "codemirror_mode": {
    "name": "ipython",
    "version": 3
   },
   "file_extension": ".py",
   "mimetype": "text/x-python",
   "name": "python",
   "nbconvert_exporter": "python",
   "pygments_lexer": "ipython3",
   "version": "3.10.13"
  }
 },
 "nbformat": 4,
 "nbformat_minor": 5
}
